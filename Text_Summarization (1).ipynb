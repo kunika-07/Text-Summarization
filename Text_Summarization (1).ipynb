{
  "cells": [
    {
      "cell_type": "markdown",
      "metadata": {
        "id": "WYdMwvYn42jw"
      },
      "source": [
        "# **NLP Project Text Summarization**"
      ]
    },
    {
      "cell_type": "markdown",
      "metadata": {
        "id": "s9xxDWxC-1eM"
      },
      "source": [
        "\n",
        "\n",
        "**text summarization**\n",
        "\n",
        "*   Input Text User\n",
        "*   Text cleaning\n",
        "*   Sentence tokenization\n",
        "*   Word tokenzation\n",
        "*   Word-frequency table\n",
        "*   Summarization\n",
        "\n",
        "\n",
        "\n",
        "\n",
        "\n",
        "\n",
        "\n",
        "\n",
        "\n",
        "\n"
      ]
    },
    {
      "cell_type": "code",
      "execution_count": 98,
      "metadata": {
        "scrolled": true,
        "colab": {
          "base_uri": "https://localhost:8080/"
        },
        "id": "W8rcZOkmp8WH",
        "outputId": "51b2c091-56ec-4647-a867-b35f9e36fef1"
      },
      "outputs": [
        {
          "output_type": "stream",
          "name": "stdout",
          "text": [
            "Enter the file path with the file name: /content/txt.txt\n",
            "Text from file:\n",
            " India is a great country where people speak different languages but the national language is Hindi. India is full of different castes, creeds, religion, and cultures but they live together. That’s the reasons India is famous for the common saying of “unity in diversity“. India is the seventh-largest country in the whole world.\n",
            "\n",
            "Geography and Culture\n",
            "India has the second-largest population in the world. India is also knowns as Bharat, Hindustan and sometimes Aryavart. It is surrounded by oceans from three sides which are Bay Of Bengal in the east, the Arabian Sea in the west and Indian oceans in the south. Tiger is the national animal of India. Peacock is the national bird of India. Mango is the national fruit of India. “Jana Gana Mana” is the national anthem of India. “Vande Mataram” is the national song of India. Hockey is the national sport of India. People of different religions such as Hinduism, Buddhism, Jainism, Sikhism, Islam, Christianity and Judaism lives together from ancient times. India is also rich in monuments, tombs, churches, historical buildings, temples, museums, scenic beauty, wildlife sanctuaries, places of architecture and many more. The great leaders and freedom fighters are from India.\n",
            "\n",
            "Flag of India\n",
            "The Indian flag has tricolors\n",
            "Saffron\n",
            "White\n",
            "Green.\n",
            "The first color that is uppermost color in the flag which is the saffron color, stands for purity. The second color i.e. the middle color in the flag is the white color and it stands for peace. The third color that is the lowest color in the flag is the green color and it stands for fertility. The white color has an Ashoka Chakra of blue color on it. Ashoka Chakra contains twenty-four spokes which are equally divided. India has 29 states and 7 union territories.\n",
            "My Favorite States from India are as follows –\n",
            "Rajasthan\n",
            "Rajasthan itself has a glorious history. It is famous for many brave kings, their deeds, and their art and architecture. It has a sandy track that’s why the nuclear test was held here. Rajasthan is full of desert, mountain range, lakes, dense forest, attractive oases, and temples, etc. Rajasthan is also known as “Land Of Sacrifice”. In Rajasthan, you can see heritage things of all the kings who ruled over there and for that, you can visit Udaipur, Jodhpur, Jaisalmer, Chittaurgarh, etc.\n",
            "\n",
            "Madhya Pradesh\n",
            "Madhya Pradesh is bigger than a foreign (Italy) country and smaller than Oman. It also has tourists attractions for its places. In Madhya Pradesh, you can see temples, lakes, fort, art and architecture, rivers, jungles, and many things. You can visit in Indore, Jabalpur, Ujjain, Bhopal, Gwalior and many cities. Khajuraho, Sanchi Stupa, Pachmarhi, Kanha national park, Mandu, etc. are the places must visit.\n",
            "\n",
            "Jammu and Kashmir\n",
            "Jammu and Kashmir are known as heaven on earth. We can also call Jammu and Kashmir as Tourists Paradise. There are many places to visit Jammu and Kashmir because they have an undisturbed landscape, motorable road, beauty, lying on the banks of river Jhelum, harmony, romance, sceneries, temples and many more.\n",
            "\n",
            "In Jammu and Kashmir, u can enjoy boating, skiing, skating, mountaineering, horse riding, fishing, snowfall, etc. In Jammu and Kashmir, you can see a variety of places such as Srinagar, Vaishnav Devi, Gulmarg, Amarnath, Patnitop, Pahalgam, Sonamarg, Lamayuru, Nubra Valley, Hemis, Sanasar,  Anantnag,  Kargil, Dachigam National Park, Pulwama, Khilanmarg, Dras, Baltal, Bhaderwah, Pangong Lake, Magnetic Hill, Tso Moriri, Khardung La, Aru Valley, Suru Basin,Chadar Trek, Zanskar Valley, Alchi Monastery, Darcha Padum Trek, Kishtwar National Park, Changthang Wildlife Sanctuary, Nyoma, Dha Hanu, Uleytokpo, Yusmarg, Tarsar Marsar Trek and many more.\n",
            "\n",
            "Kerela\n",
            "It is known as the ‘God’s Own Country’, Kerala is a state in India, situated in the southwest region, it is bordered by a number of beaches; covered by hills of Western Ghats and filled with backwaters, it is a tourist destination attracting people by its natural beauty. The most important destinations which you can see in Kerela are the museum, sanctuary, temples, backwaters, and beaches. Munnar, Kovalam, Kumarakom, and Alappad.\n",
            "\n",
            "Conclusion\n",
            "India is a great country having different cultures, castes, creed, religions but still, they live together. India is known for its heritage, spices, and of course, for people who live here. That’s the reasons India is famous for the common saying of “unity in diversity”. India is also well known as the land of spirituality, philosophy, science, and technology.\n",
            "\n"
          ]
        }
      ],
      "source": [
        "file_path = input(\"Enter the file path with the file name: \")\n",
        "\n",
        "try:\n",
        "    with open(file_path, 'r') as file:\n",
        "        text = file.read()\n",
        "        print(\"Text from file:\\n\", text)\n",
        "except FileNotFoundError:\n",
        "    print(\"File not found. Please check the file path and try again.\")\n",
        "except Exception as e:\n",
        "    print(f\"An error occurred: {e}\")\n"
      ]
    },
    {
      "cell_type": "code",
      "source": [
        "# text=input(\"Enter the Text : \")"
      ],
      "metadata": {
        "id": "XDjOCmbmqfDm"
      },
      "execution_count": null,
      "outputs": []
    },
    {
      "cell_type": "markdown",
      "metadata": {
        "id": "ICuVSNbQY-dO"
      },
      "source": [
        "\n",
        "\n",
        "# Let's Get Started with SpaCy"
      ]
    },
    {
      "cell_type": "code",
      "execution_count": null,
      "metadata": {
        "id": "6Ehfk3s8ZL0b"
      },
      "outputs": [],
      "source": [
        "# !pip install -U spacy\n",
        "# !python -m spacy download en_core_web_sm"
      ]
    },
    {
      "cell_type": "code",
      "execution_count": 99,
      "metadata": {
        "id": "gT1zyYMnZguO"
      },
      "outputs": [],
      "source": [
        "import spacy\n",
        "from spacy.lang.en.stop_words import STOP_WORDS\n",
        "from string import punctuation"
      ]
    },
    {
      "cell_type": "code",
      "execution_count": 100,
      "metadata": {
        "id": "JrR_ipOKZ4Lp"
      },
      "outputs": [],
      "source": [
        "stopwords = list(STOP_WORDS)"
      ]
    },
    {
      "cell_type": "code",
      "execution_count": 102,
      "metadata": {
        "colab": {
          "base_uri": "https://localhost:8080/"
        },
        "id": "PrE3D0S6aC_s",
        "outputId": "d32360f5-3bc5-410a-d5ea-4b25161ebdf3"
      },
      "outputs": [
        {
          "output_type": "stream",
          "name": "stdout",
          "text": [
            "Collecting en-core-web-sm==3.7.1\n",
            "  Downloading https://github.com/explosion/spacy-models/releases/download/en_core_web_sm-3.7.1/en_core_web_sm-3.7.1-py3-none-any.whl (12.8 MB)\n",
            "\u001b[2K     \u001b[90m━━━━━━━━━━━━━━━━━━━━━━━━━━━━━━━━━━━━━━━━\u001b[0m \u001b[32m12.8/12.8 MB\u001b[0m \u001b[31m74.0 MB/s\u001b[0m eta \u001b[36m0:00:00\u001b[0m\n",
            "\u001b[?25hRequirement already satisfied: spacy<3.8.0,>=3.7.2 in /usr/local/lib/python3.10/dist-packages (from en-core-web-sm==3.7.1) (3.7.4)\n",
            "Requirement already satisfied: spacy-legacy<3.1.0,>=3.0.11 in /usr/local/lib/python3.10/dist-packages (from spacy<3.8.0,>=3.7.2->en-core-web-sm==3.7.1) (3.0.12)\n",
            "Requirement already satisfied: spacy-loggers<2.0.0,>=1.0.0 in /usr/local/lib/python3.10/dist-packages (from spacy<3.8.0,>=3.7.2->en-core-web-sm==3.7.1) (1.0.5)\n",
            "Requirement already satisfied: murmurhash<1.1.0,>=0.28.0 in /usr/local/lib/python3.10/dist-packages (from spacy<3.8.0,>=3.7.2->en-core-web-sm==3.7.1) (1.0.10)\n",
            "Requirement already satisfied: cymem<2.1.0,>=2.0.2 in /usr/local/lib/python3.10/dist-packages (from spacy<3.8.0,>=3.7.2->en-core-web-sm==3.7.1) (2.0.8)\n",
            "Requirement already satisfied: preshed<3.1.0,>=3.0.2 in /usr/local/lib/python3.10/dist-packages (from spacy<3.8.0,>=3.7.2->en-core-web-sm==3.7.1) (3.0.9)\n",
            "Requirement already satisfied: thinc<8.3.0,>=8.2.2 in /usr/local/lib/python3.10/dist-packages (from spacy<3.8.0,>=3.7.2->en-core-web-sm==3.7.1) (8.2.3)\n",
            "Requirement already satisfied: wasabi<1.2.0,>=0.9.1 in /usr/local/lib/python3.10/dist-packages (from spacy<3.8.0,>=3.7.2->en-core-web-sm==3.7.1) (1.1.2)\n",
            "Requirement already satisfied: srsly<3.0.0,>=2.4.3 in /usr/local/lib/python3.10/dist-packages (from spacy<3.8.0,>=3.7.2->en-core-web-sm==3.7.1) (2.4.8)\n",
            "Requirement already satisfied: catalogue<2.1.0,>=2.0.6 in /usr/local/lib/python3.10/dist-packages (from spacy<3.8.0,>=3.7.2->en-core-web-sm==3.7.1) (2.0.10)\n",
            "Requirement already satisfied: weasel<0.4.0,>=0.1.0 in /usr/local/lib/python3.10/dist-packages (from spacy<3.8.0,>=3.7.2->en-core-web-sm==3.7.1) (0.3.4)\n",
            "Requirement already satisfied: typer<0.10.0,>=0.3.0 in /usr/local/lib/python3.10/dist-packages (from spacy<3.8.0,>=3.7.2->en-core-web-sm==3.7.1) (0.9.4)\n",
            "Requirement already satisfied: smart-open<7.0.0,>=5.2.1 in /usr/local/lib/python3.10/dist-packages (from spacy<3.8.0,>=3.7.2->en-core-web-sm==3.7.1) (6.4.0)\n",
            "Requirement already satisfied: tqdm<5.0.0,>=4.38.0 in /usr/local/lib/python3.10/dist-packages (from spacy<3.8.0,>=3.7.2->en-core-web-sm==3.7.1) (4.66.2)\n",
            "Requirement already satisfied: requests<3.0.0,>=2.13.0 in /usr/local/lib/python3.10/dist-packages (from spacy<3.8.0,>=3.7.2->en-core-web-sm==3.7.1) (2.31.0)\n",
            "Requirement already satisfied: pydantic!=1.8,!=1.8.1,<3.0.0,>=1.7.4 in /usr/local/lib/python3.10/dist-packages (from spacy<3.8.0,>=3.7.2->en-core-web-sm==3.7.1) (2.6.4)\n",
            "Requirement already satisfied: jinja2 in /usr/local/lib/python3.10/dist-packages (from spacy<3.8.0,>=3.7.2->en-core-web-sm==3.7.1) (3.1.3)\n",
            "Requirement already satisfied: setuptools in /usr/local/lib/python3.10/dist-packages (from spacy<3.8.0,>=3.7.2->en-core-web-sm==3.7.1) (67.7.2)\n",
            "Requirement already satisfied: packaging>=20.0 in /usr/local/lib/python3.10/dist-packages (from spacy<3.8.0,>=3.7.2->en-core-web-sm==3.7.1) (24.0)\n",
            "Requirement already satisfied: langcodes<4.0.0,>=3.2.0 in /usr/local/lib/python3.10/dist-packages (from spacy<3.8.0,>=3.7.2->en-core-web-sm==3.7.1) (3.3.0)\n",
            "Requirement already satisfied: numpy>=1.19.0 in /usr/local/lib/python3.10/dist-packages (from spacy<3.8.0,>=3.7.2->en-core-web-sm==3.7.1) (1.25.2)\n",
            "Requirement already satisfied: annotated-types>=0.4.0 in /usr/local/lib/python3.10/dist-packages (from pydantic!=1.8,!=1.8.1,<3.0.0,>=1.7.4->spacy<3.8.0,>=3.7.2->en-core-web-sm==3.7.1) (0.6.0)\n",
            "Requirement already satisfied: pydantic-core==2.16.3 in /usr/local/lib/python3.10/dist-packages (from pydantic!=1.8,!=1.8.1,<3.0.0,>=1.7.4->spacy<3.8.0,>=3.7.2->en-core-web-sm==3.7.1) (2.16.3)\n",
            "Requirement already satisfied: typing-extensions>=4.6.1 in /usr/local/lib/python3.10/dist-packages (from pydantic!=1.8,!=1.8.1,<3.0.0,>=1.7.4->spacy<3.8.0,>=3.7.2->en-core-web-sm==3.7.1) (4.10.0)\n",
            "Requirement already satisfied: charset-normalizer<4,>=2 in /usr/local/lib/python3.10/dist-packages (from requests<3.0.0,>=2.13.0->spacy<3.8.0,>=3.7.2->en-core-web-sm==3.7.1) (3.3.2)\n",
            "Requirement already satisfied: idna<4,>=2.5 in /usr/local/lib/python3.10/dist-packages (from requests<3.0.0,>=2.13.0->spacy<3.8.0,>=3.7.2->en-core-web-sm==3.7.1) (3.6)\n",
            "Requirement already satisfied: urllib3<3,>=1.21.1 in /usr/local/lib/python3.10/dist-packages (from requests<3.0.0,>=2.13.0->spacy<3.8.0,>=3.7.2->en-core-web-sm==3.7.1) (2.0.7)\n",
            "Requirement already satisfied: certifi>=2017.4.17 in /usr/local/lib/python3.10/dist-packages (from requests<3.0.0,>=2.13.0->spacy<3.8.0,>=3.7.2->en-core-web-sm==3.7.1) (2024.2.2)\n",
            "Requirement already satisfied: blis<0.8.0,>=0.7.8 in /usr/local/lib/python3.10/dist-packages (from thinc<8.3.0,>=8.2.2->spacy<3.8.0,>=3.7.2->en-core-web-sm==3.7.1) (0.7.11)\n",
            "Requirement already satisfied: confection<1.0.0,>=0.0.1 in /usr/local/lib/python3.10/dist-packages (from thinc<8.3.0,>=8.2.2->spacy<3.8.0,>=3.7.2->en-core-web-sm==3.7.1) (0.1.4)\n",
            "Requirement already satisfied: click<9.0.0,>=7.1.1 in /usr/local/lib/python3.10/dist-packages (from typer<0.10.0,>=0.3.0->spacy<3.8.0,>=3.7.2->en-core-web-sm==3.7.1) (8.1.7)\n",
            "Requirement already satisfied: cloudpathlib<0.17.0,>=0.7.0 in /usr/local/lib/python3.10/dist-packages (from weasel<0.4.0,>=0.1.0->spacy<3.8.0,>=3.7.2->en-core-web-sm==3.7.1) (0.16.0)\n",
            "Requirement already satisfied: MarkupSafe>=2.0 in /usr/local/lib/python3.10/dist-packages (from jinja2->spacy<3.8.0,>=3.7.2->en-core-web-sm==3.7.1) (2.1.5)\n",
            "\u001b[38;5;2m✔ Download and installation successful\u001b[0m\n",
            "You can now load the package via spacy.load('en_core_web_sm')\n",
            "\u001b[38;5;3m⚠ Restart to reload dependencies\u001b[0m\n",
            "If you are in a Jupyter or Colab notebook, you may need to restart Python in\n",
            "order to load all the package's dependencies. You can do this by selecting the\n",
            "'Restart kernel' or 'Restart runtime' option.\n"
          ]
        }
      ],
      "source": [
        "!python -m spacy download en_core_web_sm\n",
        "nlp = spacy.load('en_core_web_sm')"
      ]
    },
    {
      "cell_type": "code",
      "execution_count": 103,
      "metadata": {
        "colab": {
          "base_uri": "https://localhost:8080/"
        },
        "id": "RntMWU8DaQDm",
        "outputId": "fd32a5c8-49c5-4ba7-a8b0-5180412a6268"
      },
      "outputs": [
        {
          "output_type": "stream",
          "name": "stdout",
          "text": [
            "India: GPE\n",
            "Hindi: GPE\n",
            "India: GPE\n",
            "India: GPE\n",
            "India: GPE\n",
            "seventh: ORDINAL\n",
            "India: GPE\n",
            "second: ORDINAL\n",
            "India: GPE\n",
            "Bharat: NORP\n",
            "Hindustan: ORG\n",
            "Aryavart: GPE\n",
            "three: CARDINAL\n",
            "Bay Of Bengal: FAC\n",
            "the Arabian Sea: LOC\n",
            "Indian: NORP\n",
            "India: GPE\n",
            "India: GPE\n",
            "Mango: GPE\n",
            "India: GPE\n",
            "Jana Gana Mana: WORK_OF_ART\n",
            "India: GPE\n",
            "Vande Mataram: WORK_OF_ART\n",
            "India: GPE\n",
            "Hockey: GPE\n",
            "India: GPE\n",
            "Hinduism: NORP\n",
            "Islam: NORP\n",
            "Christianity: NORP\n",
            "Judaism: ORG\n",
            "India: GPE\n",
            "India: GPE\n",
            "Flag of India: ORG\n",
            "Indian: NORP\n",
            "Saffron: ORG\n",
            "first: ORDINAL\n",
            "second: ORDINAL\n",
            "third: ORDINAL\n",
            "Ashoka Chakra: ORG\n",
            "Ashoka Chakra: ORG\n",
            "twenty-four: CARDINAL\n",
            "India: GPE\n",
            "29: CARDINAL\n",
            "Favorite States: GPE\n",
            "India: GPE\n",
            "Rajasthan\n",
            "Rajasthan: FAC\n",
            "Rajasthan: PERSON\n",
            "Rajasthan: PERSON\n",
            "Rajasthan: GPE\n",
            "Udaipur: GPE\n",
            "Jodhpur: GPE\n",
            "Jaisalmer: GPE\n",
            "Chittaurgarh: GPE\n",
            "Madhya: PERSON\n",
            "Italy: GPE\n",
            "Oman: GPE\n",
            "Madhya Pradesh: ORG\n",
            "Indore: GPE\n",
            "Jabalpur: GPE\n",
            "Ujjain: GPE\n",
            "Khajuraho: GPE\n",
            "Sanchi Stupa: PERSON\n",
            "Pachmarhi: PERSON\n",
            "Mandu: GPE\n",
            "Jammu: GPE\n",
            "Kashmir\n",
            "Jammu: LOC\n",
            "Kashmir: LOC\n",
            "Jammu: GPE\n",
            "Kashmir: LOC\n",
            "Jammu: GPE\n",
            "Kashmir: LOC\n",
            "Jhelum: PERSON\n",
            "Jammu: GPE\n",
            "Kashmir: LOC\n",
            "Jammu: GPE\n",
            "Kashmir: LOC\n",
            "Srinagar: GPE\n",
            "Vaishnav Devi: PERSON\n",
            "Amarnath: PERSON\n",
            "Lamayuru: GPE\n",
            "Nubra Valley: PERSON\n",
            "Hemis: ORG\n",
            "Sanasar: PRODUCT\n",
            "Kargil: GPE\n",
            "Dachigam National Park: ORG\n",
            "Pulwama: GPE\n",
            "Khilanmarg: GPE\n",
            "Dras: ORG\n",
            "Bhaderwah: PERSON\n",
            "Pangong Lake: GPE\n",
            "Magnetic Hill: ORG\n",
            "Tso Moriri: PERSON\n",
            "Khardung La: PERSON\n",
            "Aru Valley: GPE\n",
            "Suru Basin: LOC\n",
            "Chadar Trek: WORK_OF_ART\n",
            "Zanskar Valley: PERSON\n",
            "Alchi Monastery: PERSON\n",
            "Darcha Padum Trek: ORG\n",
            "Changthang Wildlife Sanctuary: GPE\n",
            "Nyoma: GPE\n",
            "Dha Hanu: PERSON\n",
            "Uleytokpo: ORG\n",
            "Yusmarg: PERSON\n",
            "Tarsar Marsar Trek: PERSON\n",
            "Kerela: PERSON\n",
            "Kerala: PERSON\n",
            "India: GPE\n",
            "Western Ghats: NORP\n",
            "Kerela: GPE\n",
            "Kovalam: PERSON\n",
            "Kumarakom: ORG\n",
            "Alappad: ORG\n",
            "Conclusion\n",
            "India: ORG\n",
            "India: GPE\n",
            "India: GPE\n",
            "India: GPE\n"
          ]
        }
      ],
      "source": [
        "doc = nlp(text)\n",
        "for ent in doc.ents:\n",
        "    print(f\"{ent.text}: {ent.label_}\")\n"
      ]
    },
    {
      "cell_type": "code",
      "execution_count": 104,
      "metadata": {
        "colab": {
          "base_uri": "https://localhost:8080/"
        },
        "id": "C9NCYfNap8WI",
        "outputId": "411c9d7a-cd45-44c9-fc28-52aed493a269"
      },
      "outputs": [
        {
          "output_type": "stream",
          "name": "stdout",
          "text": [
            "India: PROPN\n",
            "is: AUX\n",
            "a: DET\n",
            "great: ADJ\n",
            "country: NOUN\n",
            "where: SCONJ\n",
            "people: NOUN\n",
            "speak: VERB\n",
            "different: ADJ\n",
            "languages: NOUN\n",
            "but: CCONJ\n",
            "the: DET\n",
            "national: ADJ\n",
            "language: NOUN\n",
            "is: AUX\n",
            "Hindi: PROPN\n",
            ".: PUNCT\n",
            "India: PROPN\n",
            "is: AUX\n",
            "full: ADJ\n",
            "of: ADP\n",
            "different: ADJ\n",
            "castes: NOUN\n",
            ",: PUNCT\n",
            "creeds: NOUN\n",
            ",: PUNCT\n",
            "religion: NOUN\n",
            ",: PUNCT\n",
            "and: CCONJ\n",
            "cultures: NOUN\n",
            "but: CCONJ\n",
            "they: PRON\n",
            "live: VERB\n",
            "together: ADV\n",
            ".: PUNCT\n",
            "That: PRON\n",
            "’s: VERB\n",
            "the: DET\n",
            "reasons: NOUN\n",
            "India: PROPN\n",
            "is: AUX\n",
            "famous: ADJ\n",
            "for: ADP\n",
            "the: DET\n",
            "common: ADJ\n",
            "saying: NOUN\n",
            "of: ADP\n",
            "“: PUNCT\n",
            "unity: NOUN\n",
            "in: ADP\n",
            "diversity: NOUN\n",
            "“: PUNCT\n",
            ".: PUNCT\n",
            "India: PROPN\n",
            "is: AUX\n",
            "the: DET\n",
            "seventh: ADV\n",
            "-: PUNCT\n",
            "largest: ADJ\n",
            "country: NOUN\n",
            "in: ADP\n",
            "the: DET\n",
            "whole: ADJ\n",
            "world: NOUN\n",
            ".: PUNCT\n",
            "\n",
            "\n",
            ": SPACE\n",
            "Geography: PROPN\n",
            "and: CCONJ\n",
            "Culture: PROPN\n",
            "\n",
            ": SPACE\n",
            "India: PROPN\n",
            "has: VERB\n",
            "the: DET\n",
            "second: ADV\n",
            "-: PUNCT\n",
            "largest: ADJ\n",
            "population: NOUN\n",
            "in: ADP\n",
            "the: DET\n",
            "world: NOUN\n",
            ".: PUNCT\n",
            "India: PROPN\n",
            "is: AUX\n",
            "also: ADV\n",
            "knowns: NOUN\n",
            "as: ADP\n",
            "Bharat: PROPN\n",
            ",: PUNCT\n",
            "Hindustan: PROPN\n",
            "and: CCONJ\n",
            "sometimes: ADV\n",
            "Aryavart: PROPN\n",
            ".: PUNCT\n",
            "It: PRON\n",
            "is: AUX\n",
            "surrounded: VERB\n",
            "by: ADP\n",
            "oceans: NOUN\n",
            "from: ADP\n",
            "three: NUM\n",
            "sides: NOUN\n",
            "which: PRON\n",
            "are: AUX\n",
            "Bay: PROPN\n",
            "Of: ADP\n",
            "Bengal: PROPN\n",
            "in: ADP\n",
            "the: DET\n",
            "east: NOUN\n",
            ",: PUNCT\n",
            "the: DET\n",
            "Arabian: PROPN\n",
            "Sea: PROPN\n",
            "in: ADP\n",
            "the: DET\n",
            "west: NOUN\n",
            "and: CCONJ\n",
            "Indian: ADJ\n",
            "oceans: NOUN\n",
            "in: ADP\n",
            "the: DET\n",
            "south: NOUN\n",
            ".: PUNCT\n",
            "Tiger: PROPN\n",
            "is: AUX\n",
            "the: DET\n",
            "national: ADJ\n",
            "animal: NOUN\n",
            "of: ADP\n",
            "India: PROPN\n",
            ".: PUNCT\n",
            "Peacock: PROPN\n",
            "is: AUX\n",
            "the: DET\n",
            "national: ADJ\n",
            "bird: NOUN\n",
            "of: ADP\n",
            "India: PROPN\n",
            ".: PUNCT\n",
            "Mango: PROPN\n",
            "is: AUX\n",
            "the: DET\n",
            "national: ADJ\n",
            "fruit: NOUN\n",
            "of: ADP\n",
            "India: PROPN\n",
            ".: PUNCT\n",
            "“: PUNCT\n",
            "Jana: PROPN\n",
            "Gana: PROPN\n",
            "Mana: PROPN\n",
            "”: PUNCT\n",
            "is: AUX\n",
            "the: DET\n",
            "national: ADJ\n",
            "anthem: NOUN\n",
            "of: ADP\n",
            "India: PROPN\n",
            ".: PUNCT\n",
            "“: PUNCT\n",
            "Vande: PROPN\n",
            "Mataram: PROPN\n",
            "”: PUNCT\n",
            "is: AUX\n",
            "the: DET\n",
            "national: ADJ\n",
            "song: NOUN\n",
            "of: ADP\n",
            "India: PROPN\n",
            ".: PUNCT\n",
            "Hockey: PROPN\n",
            "is: AUX\n",
            "the: DET\n",
            "national: ADJ\n",
            "sport: NOUN\n",
            "of: ADP\n",
            "India: PROPN\n",
            ".: PUNCT\n",
            "People: NOUN\n",
            "of: ADP\n",
            "different: ADJ\n",
            "religions: NOUN\n",
            "such: ADJ\n",
            "as: ADP\n",
            "Hinduism: PROPN\n",
            ",: PUNCT\n",
            "Buddhism: PROPN\n",
            ",: PUNCT\n",
            "Jainism: PROPN\n",
            ",: PUNCT\n",
            "Sikhism: PROPN\n",
            ",: PUNCT\n",
            "Islam: PROPN\n",
            ",: PUNCT\n",
            "Christianity: PROPN\n",
            "and: CCONJ\n",
            "Judaism: PROPN\n",
            "lives: VERB\n",
            "together: ADV\n",
            "from: ADP\n",
            "ancient: ADJ\n",
            "times: NOUN\n",
            ".: PUNCT\n",
            "India: PROPN\n",
            "is: AUX\n",
            "also: ADV\n",
            "rich: ADJ\n",
            "in: ADP\n",
            "monuments: NOUN\n",
            ",: PUNCT\n",
            "tombs: NOUN\n",
            ",: PUNCT\n",
            "churches: NOUN\n",
            ",: PUNCT\n",
            "historical: ADJ\n",
            "buildings: NOUN\n",
            ",: PUNCT\n",
            "temples: NOUN\n",
            ",: PUNCT\n",
            "museums: NOUN\n",
            ",: PUNCT\n",
            "scenic: ADJ\n",
            "beauty: NOUN\n",
            ",: PUNCT\n",
            "wildlife: NOUN\n",
            "sanctuaries: NOUN\n",
            ",: PUNCT\n",
            "places: NOUN\n",
            "of: ADP\n",
            "architecture: NOUN\n",
            "and: CCONJ\n",
            "many: ADJ\n",
            "more: ADJ\n",
            ".: PUNCT\n",
            "The: DET\n",
            "great: ADJ\n",
            "leaders: NOUN\n",
            "and: CCONJ\n",
            "freedom: NOUN\n",
            "fighters: NOUN\n",
            "are: AUX\n",
            "from: ADP\n",
            "India: PROPN\n",
            ".: PUNCT\n",
            "\n",
            "\n",
            ": SPACE\n",
            "Flag: PROPN\n",
            "of: ADP\n",
            "India: PROPN\n",
            "\n",
            ": SPACE\n",
            "The: DET\n",
            "Indian: ADJ\n",
            "flag: NOUN\n",
            "has: VERB\n",
            "tricolors: NOUN\n",
            "\n",
            ": SPACE\n",
            "Saffron: PROPN\n",
            "\n",
            ": SPACE\n",
            "White: PROPN\n",
            "\n",
            ": SPACE\n",
            "Green: PROPN\n",
            ".: PUNCT\n",
            "\n",
            ": SPACE\n",
            "The: DET\n",
            "first: ADJ\n",
            "color: NOUN\n",
            "that: PRON\n",
            "is: AUX\n",
            "uppermost: ADJ\n",
            "color: NOUN\n",
            "in: ADP\n",
            "the: DET\n",
            "flag: NOUN\n",
            "which: PRON\n",
            "is: AUX\n",
            "the: DET\n",
            "saffron: NOUN\n",
            "color: NOUN\n",
            ",: PUNCT\n",
            "stands: VERB\n",
            "for: ADP\n",
            "purity: NOUN\n",
            ".: PUNCT\n",
            "The: DET\n",
            "second: ADJ\n",
            "color: NOUN\n",
            "i.e.: X\n",
            "the: DET\n",
            "middle: ADJ\n",
            "color: NOUN\n",
            "in: ADP\n",
            "the: DET\n",
            "flag: NOUN\n",
            "is: AUX\n",
            "the: DET\n",
            "white: ADJ\n",
            "color: NOUN\n",
            "and: CCONJ\n",
            "it: PRON\n",
            "stands: VERB\n",
            "for: ADP\n",
            "peace: NOUN\n",
            ".: PUNCT\n",
            "The: DET\n",
            "third: ADJ\n",
            "color: NOUN\n",
            "that: PRON\n",
            "is: AUX\n",
            "the: DET\n",
            "lowest: ADJ\n",
            "color: NOUN\n",
            "in: ADP\n",
            "the: DET\n",
            "flag: NOUN\n",
            "is: AUX\n",
            "the: DET\n",
            "green: ADJ\n",
            "color: NOUN\n",
            "and: CCONJ\n",
            "it: PRON\n",
            "stands: VERB\n",
            "for: ADP\n",
            "fertility: NOUN\n",
            ".: PUNCT\n",
            "The: DET\n",
            "white: ADJ\n",
            "color: NOUN\n",
            "has: VERB\n",
            "an: DET\n",
            "Ashoka: PROPN\n",
            "Chakra: PROPN\n",
            "of: ADP\n",
            "blue: ADJ\n",
            "color: NOUN\n",
            "on: ADP\n",
            "it: PRON\n",
            ".: PUNCT\n",
            "Ashoka: PROPN\n",
            "Chakra: PROPN\n",
            "contains: VERB\n",
            "twenty: NUM\n",
            "-: PUNCT\n",
            "four: NUM\n",
            "spokes: NOUN\n",
            "which: PRON\n",
            "are: AUX\n",
            "equally: ADV\n",
            "divided: ADJ\n",
            ".: PUNCT\n",
            "India: PROPN\n",
            "has: VERB\n",
            "29: NUM\n",
            "states: NOUN\n",
            "and: CCONJ\n",
            "7: NUM\n",
            "union: NOUN\n",
            "territories: NOUN\n",
            ".: PUNCT\n",
            "\n",
            ": SPACE\n",
            "My: PRON\n",
            "Favorite: PROPN\n",
            "States: PROPN\n",
            "from: ADP\n",
            "India: PROPN\n",
            "are: AUX\n",
            "as: SCONJ\n",
            "follows: VERB\n",
            "–: PUNCT\n",
            "\n",
            ": SPACE\n",
            "Rajasthan: PROPN\n",
            "\n",
            ": SPACE\n",
            "Rajasthan: PROPN\n",
            "itself: PRON\n",
            "has: VERB\n",
            "a: DET\n",
            "glorious: ADJ\n",
            "history: NOUN\n",
            ".: PUNCT\n",
            "It: PRON\n",
            "is: AUX\n",
            "famous: ADJ\n",
            "for: ADP\n",
            "many: ADJ\n",
            "brave: ADJ\n",
            "kings: NOUN\n",
            ",: PUNCT\n",
            "their: PRON\n",
            "deeds: NOUN\n",
            ",: PUNCT\n",
            "and: CCONJ\n",
            "their: PRON\n",
            "art: NOUN\n",
            "and: CCONJ\n",
            "architecture: NOUN\n",
            ".: PUNCT\n",
            "It: PRON\n",
            "has: VERB\n",
            "a: DET\n",
            "sandy: ADJ\n",
            "track: NOUN\n",
            "that: PRON\n",
            "’s: VERB\n",
            "why: SCONJ\n",
            "the: DET\n",
            "nuclear: ADJ\n",
            "test: NOUN\n",
            "was: AUX\n",
            "held: VERB\n",
            "here: ADV\n",
            ".: PUNCT\n",
            "Rajasthan: PROPN\n",
            "is: AUX\n",
            "full: ADJ\n",
            "of: ADP\n",
            "desert: NOUN\n",
            ",: PUNCT\n",
            "mountain: NOUN\n",
            "range: NOUN\n",
            ",: PUNCT\n",
            "lakes: NOUN\n",
            ",: PUNCT\n",
            "dense: ADJ\n",
            "forest: NOUN\n",
            ",: PUNCT\n",
            "attractive: ADJ\n",
            "oases: NOUN\n",
            ",: PUNCT\n",
            "and: CCONJ\n",
            "temples: NOUN\n",
            ",: PUNCT\n",
            "etc: X\n",
            ".: PUNCT\n",
            "Rajasthan: PROPN\n",
            "is: AUX\n",
            "also: ADV\n",
            "known: VERB\n",
            "as: ADP\n",
            "“: PUNCT\n",
            "Land: PROPN\n",
            "Of: ADP\n",
            "Sacrifice: PROPN\n",
            "”: PUNCT\n",
            ".: PUNCT\n",
            "In: ADP\n",
            "Rajasthan: PROPN\n",
            ",: PUNCT\n",
            "you: PRON\n",
            "can: AUX\n",
            "see: VERB\n",
            "heritage: NOUN\n",
            "things: NOUN\n",
            "of: ADP\n",
            "all: DET\n",
            "the: DET\n",
            "kings: NOUN\n",
            "who: PRON\n",
            "ruled: VERB\n",
            "over: ADP\n",
            "there: ADV\n",
            "and: CCONJ\n",
            "for: ADP\n",
            "that: PRON\n",
            ",: PUNCT\n",
            "you: PRON\n",
            "can: AUX\n",
            "visit: VERB\n",
            "Udaipur: PROPN\n",
            ",: PUNCT\n",
            "Jodhpur: PROPN\n",
            ",: PUNCT\n",
            "Jaisalmer: PROPN\n",
            ",: PUNCT\n",
            "Chittaurgarh: PROPN\n",
            ",: PUNCT\n",
            "etc: X\n",
            ".: X\n",
            "\n",
            "\n",
            ": SPACE\n",
            "Madhya: PROPN\n",
            "Pradesh: PROPN\n",
            "\n",
            ": SPACE\n",
            "Madhya: PROPN\n",
            "Pradesh: PROPN\n",
            "is: AUX\n",
            "bigger: ADJ\n",
            "than: ADP\n",
            "a: DET\n",
            "foreign: ADJ\n",
            "(: PUNCT\n",
            "Italy: PROPN\n",
            "): PUNCT\n",
            "country: NOUN\n",
            "and: CCONJ\n",
            "smaller: ADJ\n",
            "than: ADP\n",
            "Oman: PROPN\n",
            ".: PUNCT\n",
            "It: PRON\n",
            "also: ADV\n",
            "has: VERB\n",
            "tourists: NOUN\n",
            "attractions: NOUN\n",
            "for: ADP\n",
            "its: PRON\n",
            "places: NOUN\n",
            ".: PUNCT\n",
            "In: ADP\n",
            "Madhya: PROPN\n",
            "Pradesh: PROPN\n",
            ",: PUNCT\n",
            "you: PRON\n",
            "can: AUX\n",
            "see: VERB\n",
            "temples: NOUN\n",
            ",: PUNCT\n",
            "lakes: NOUN\n",
            ",: PUNCT\n",
            "fort: NOUN\n",
            ",: PUNCT\n",
            "art: NOUN\n",
            "and: CCONJ\n",
            "architecture: NOUN\n",
            ",: PUNCT\n",
            "rivers: NOUN\n",
            ",: PUNCT\n",
            "jungles: NOUN\n",
            ",: PUNCT\n",
            "and: CCONJ\n",
            "many: ADJ\n",
            "things: NOUN\n",
            ".: PUNCT\n",
            "You: PRON\n",
            "can: AUX\n",
            "visit: VERB\n",
            "in: ADP\n",
            "Indore: PROPN\n",
            ",: PUNCT\n",
            "Jabalpur: PROPN\n",
            ",: PUNCT\n",
            "Ujjain: PROPN\n",
            ",: PUNCT\n",
            "Bhopal: PROPN\n",
            ",: PUNCT\n",
            "Gwalior: PROPN\n",
            "and: CCONJ\n",
            "many: ADJ\n",
            "cities: NOUN\n",
            ".: PUNCT\n",
            "Khajuraho: PROPN\n",
            ",: PUNCT\n",
            "Sanchi: PROPN\n",
            "Stupa: PROPN\n",
            ",: PUNCT\n",
            "Pachmarhi: PROPN\n",
            ",: PUNCT\n",
            "Kanha: PROPN\n",
            "national: ADJ\n",
            "park: NOUN\n",
            ",: PUNCT\n",
            "Mandu: PROPN\n",
            ",: PUNCT\n",
            "etc: X\n",
            ".: X\n",
            "are: AUX\n",
            "the: DET\n",
            "places: NOUN\n",
            "must: AUX\n",
            "visit: VERB\n",
            ".: PUNCT\n",
            "\n",
            "\n",
            ": SPACE\n",
            "Jammu: PROPN\n",
            "and: CCONJ\n",
            "Kashmir: PROPN\n",
            "\n",
            ": SPACE\n",
            "Jammu: PROPN\n",
            "and: CCONJ\n",
            "Kashmir: PROPN\n",
            "are: AUX\n",
            "known: VERB\n",
            "as: ADP\n",
            "heaven: PROPN\n",
            "on: ADP\n",
            "earth: NOUN\n",
            ".: PUNCT\n",
            "We: PRON\n",
            "can: AUX\n",
            "also: ADV\n",
            "call: VERB\n",
            "Jammu: PROPN\n",
            "and: CCONJ\n",
            "Kashmir: PROPN\n",
            "as: ADP\n",
            "Tourists: PROPN\n",
            "Paradise: PROPN\n",
            ".: PUNCT\n",
            "There: PRON\n",
            "are: VERB\n",
            "many: ADJ\n",
            "places: NOUN\n",
            "to: PART\n",
            "visit: VERB\n",
            "Jammu: PROPN\n",
            "and: CCONJ\n",
            "Kashmir: PROPN\n",
            "because: SCONJ\n",
            "they: PRON\n",
            "have: VERB\n",
            "an: DET\n",
            "undisturbed: ADJ\n",
            "landscape: NOUN\n",
            ",: PUNCT\n",
            "motorable: ADJ\n",
            "road: NOUN\n",
            ",: PUNCT\n",
            "beauty: NOUN\n",
            ",: PUNCT\n",
            "lying: VERB\n",
            "on: ADP\n",
            "the: DET\n",
            "banks: NOUN\n",
            "of: ADP\n",
            "river: NOUN\n",
            "Jhelum: PROPN\n",
            ",: PUNCT\n",
            "harmony: NOUN\n",
            ",: PUNCT\n",
            "romance: NOUN\n",
            ",: PUNCT\n",
            "sceneries: NOUN\n",
            ",: PUNCT\n",
            "temples: NOUN\n",
            "and: CCONJ\n",
            "many: ADJ\n",
            "more: ADJ\n",
            ".: PUNCT\n",
            "\n",
            "\n",
            ": SPACE\n",
            "In: ADP\n",
            "Jammu: PROPN\n",
            "and: CCONJ\n",
            "Kashmir: PROPN\n",
            ",: PUNCT\n",
            "u: PRON\n",
            "can: AUX\n",
            "enjoy: VERB\n",
            "boating: VERB\n",
            ",: PUNCT\n",
            "skiing: NOUN\n",
            ",: PUNCT\n",
            "skating: VERB\n",
            ",: PUNCT\n",
            "mountaineering: NOUN\n",
            ",: PUNCT\n",
            "horse: NOUN\n",
            "riding: NOUN\n",
            ",: PUNCT\n",
            "fishing: NOUN\n",
            ",: PUNCT\n",
            "snowfall: NOUN\n",
            ",: PUNCT\n",
            "etc: X\n",
            ".: X\n",
            "In: ADP\n",
            "Jammu: PROPN\n",
            "and: CCONJ\n",
            "Kashmir: PROPN\n",
            ",: PUNCT\n",
            "you: PRON\n",
            "can: AUX\n",
            "see: VERB\n",
            "a: DET\n",
            "variety: NOUN\n",
            "of: ADP\n",
            "places: NOUN\n",
            "such: ADJ\n",
            "as: ADP\n",
            "Srinagar: PROPN\n",
            ",: PUNCT\n",
            "Vaishnav: PROPN\n",
            "Devi: PROPN\n",
            ",: PUNCT\n",
            "Gulmarg: PROPN\n",
            ",: PUNCT\n",
            "Amarnath: PROPN\n",
            ",: PUNCT\n",
            "Patnitop: PROPN\n",
            ",: PUNCT\n",
            "Pahalgam: PROPN\n",
            ",: PUNCT\n",
            "Sonamarg: PROPN\n",
            ",: PUNCT\n",
            "Lamayuru: PROPN\n",
            ",: PUNCT\n",
            "Nubra: PROPN\n",
            "Valley: PROPN\n",
            ",: PUNCT\n",
            "Hemis: PROPN\n",
            ",: PUNCT\n",
            "Sanasar: PROPN\n",
            ",: PUNCT\n",
            " : SPACE\n",
            "Anantnag: PROPN\n",
            ",: PUNCT\n",
            " : SPACE\n",
            "Kargil: PROPN\n",
            ",: PUNCT\n",
            "Dachigam: PROPN\n",
            "National: PROPN\n",
            "Park: PROPN\n",
            ",: PUNCT\n",
            "Pulwama: PROPN\n",
            ",: PUNCT\n",
            "Khilanmarg: PROPN\n",
            ",: PUNCT\n",
            "Dras: PROPN\n",
            ",: PUNCT\n",
            "Baltal: PROPN\n",
            ",: PUNCT\n",
            "Bhaderwah: PROPN\n",
            ",: PUNCT\n",
            "Pangong: PROPN\n",
            "Lake: PROPN\n",
            ",: PUNCT\n",
            "Magnetic: PROPN\n",
            "Hill: PROPN\n",
            ",: PUNCT\n",
            "Tso: PROPN\n",
            "Moriri: PROPN\n",
            ",: PUNCT\n",
            "Khardung: PROPN\n",
            "La: PROPN\n",
            ",: PUNCT\n",
            "Aru: PROPN\n",
            "Valley: PROPN\n",
            ",: PUNCT\n",
            "Suru: PROPN\n",
            "Basin: PROPN\n",
            ",: PUNCT\n",
            "Chadar: PROPN\n",
            "Trek: PROPN\n",
            ",: PUNCT\n",
            "Zanskar: PROPN\n",
            "Valley: PROPN\n",
            ",: PUNCT\n",
            "Alchi: PROPN\n",
            "Monastery: PROPN\n",
            ",: PUNCT\n",
            "Darcha: PROPN\n",
            "Padum: PROPN\n",
            "Trek: PROPN\n",
            ",: PUNCT\n",
            "Kishtwar: PROPN\n",
            "National: PROPN\n",
            "Park: PROPN\n",
            ",: PUNCT\n",
            "Changthang: PROPN\n",
            "Wildlife: PROPN\n",
            "Sanctuary: PROPN\n",
            ",: PUNCT\n",
            "Nyoma: PROPN\n",
            ",: PUNCT\n",
            "Dha: PROPN\n",
            "Hanu: PROPN\n",
            ",: PUNCT\n",
            "Uleytokpo: PROPN\n",
            ",: PUNCT\n",
            "Yusmarg: PROPN\n",
            ",: PUNCT\n",
            "Tarsar: PROPN\n",
            "Marsar: PROPN\n",
            "Trek: PROPN\n",
            "and: CCONJ\n",
            "many: ADJ\n",
            "more: ADJ\n",
            ".: PUNCT\n",
            "\n",
            "\n",
            ": SPACE\n",
            "Kerela: PROPN\n",
            "\n",
            ": SPACE\n",
            "It: PRON\n",
            "is: AUX\n",
            "known: VERB\n",
            "as: ADP\n",
            "the: DET\n",
            "‘: PUNCT\n",
            "God: PROPN\n",
            "’s: PART\n",
            "Own: PROPN\n",
            "Country: PROPN\n",
            "’: PUNCT\n",
            ",: PUNCT\n",
            "Kerala: PROPN\n",
            "is: AUX\n",
            "a: DET\n",
            "state: NOUN\n",
            "in: ADP\n",
            "India: PROPN\n",
            ",: PUNCT\n",
            "situated: VERB\n",
            "in: ADP\n",
            "the: DET\n",
            "southwest: NOUN\n",
            "region: NOUN\n",
            ",: PUNCT\n",
            "it: PRON\n",
            "is: AUX\n",
            "bordered: VERB\n",
            "by: ADP\n",
            "a: DET\n",
            "number: NOUN\n",
            "of: ADP\n",
            "beaches: NOUN\n",
            ";: PUNCT\n",
            "covered: VERB\n",
            "by: ADP\n",
            "hills: NOUN\n",
            "of: ADP\n",
            "Western: PROPN\n",
            "Ghats: PROPN\n",
            "and: CCONJ\n",
            "filled: VERB\n",
            "with: ADP\n",
            "backwaters: NOUN\n",
            ",: PUNCT\n",
            "it: PRON\n",
            "is: AUX\n",
            "a: DET\n",
            "tourist: NOUN\n",
            "destination: NOUN\n",
            "attracting: VERB\n",
            "people: NOUN\n",
            "by: ADP\n",
            "its: PRON\n",
            "natural: ADJ\n",
            "beauty: NOUN\n",
            ".: PUNCT\n",
            "The: DET\n",
            "most: ADV\n",
            "important: ADJ\n",
            "destinations: NOUN\n",
            "which: PRON\n",
            "you: PRON\n",
            "can: AUX\n",
            "see: VERB\n",
            "in: ADP\n",
            "Kerela: PROPN\n",
            "are: AUX\n",
            "the: DET\n",
            "museum: NOUN\n",
            ",: PUNCT\n",
            "sanctuary: ADJ\n",
            ",: PUNCT\n",
            "temples: NOUN\n",
            ",: PUNCT\n",
            "backwaters: NOUN\n",
            ",: PUNCT\n",
            "and: CCONJ\n",
            "beaches: NOUN\n",
            ".: PUNCT\n",
            "Munnar: PROPN\n",
            ",: PUNCT\n",
            "Kovalam: PROPN\n",
            ",: PUNCT\n",
            "Kumarakom: PROPN\n",
            ",: PUNCT\n",
            "and: CCONJ\n",
            "Alappad: PROPN\n",
            ".: PUNCT\n",
            "\n",
            "\n",
            ": SPACE\n",
            "Conclusion: PROPN\n",
            "\n",
            ": SPACE\n",
            "India: PROPN\n",
            "is: AUX\n",
            "a: DET\n",
            "great: ADJ\n",
            "country: NOUN\n",
            "having: VERB\n",
            "different: ADJ\n",
            "cultures: NOUN\n",
            ",: PUNCT\n",
            "castes: NOUN\n",
            ",: PUNCT\n",
            "creed: NOUN\n",
            ",: PUNCT\n",
            "religions: NOUN\n",
            "but: CCONJ\n",
            "still: ADV\n",
            ",: PUNCT\n",
            "they: PRON\n",
            "live: VERB\n",
            "together: ADV\n",
            ".: PUNCT\n",
            "India: PROPN\n",
            "is: AUX\n",
            "known: VERB\n",
            "for: ADP\n",
            "its: PRON\n",
            "heritage: NOUN\n",
            ",: PUNCT\n",
            "spices: NOUN\n",
            ",: PUNCT\n",
            "and: CCONJ\n",
            "of: ADP\n",
            "course: NOUN\n",
            ",: PUNCT\n",
            "for: ADP\n",
            "people: NOUN\n",
            "who: PRON\n",
            "live: VERB\n",
            "here: ADV\n",
            ".: PUNCT\n",
            "That: PRON\n",
            "’s: VERB\n",
            "the: DET\n",
            "reasons: NOUN\n",
            "India: PROPN\n",
            "is: AUX\n",
            "famous: ADJ\n",
            "for: ADP\n",
            "the: DET\n",
            "common: ADJ\n",
            "saying: NOUN\n",
            "of: ADP\n",
            "“: PUNCT\n",
            "unity: NOUN\n",
            "in: ADP\n",
            "diversity: NOUN\n",
            "”: PUNCT\n",
            ".: PUNCT\n",
            "India: PROPN\n",
            "is: AUX\n",
            "also: ADV\n",
            "well: ADV\n",
            "known: VERB\n",
            "as: ADP\n",
            "the: DET\n",
            "land: NOUN\n",
            "of: ADP\n",
            "spirituality: NOUN\n",
            ",: PUNCT\n",
            "philosophy: NOUN\n",
            ",: PUNCT\n",
            "science: NOUN\n",
            ",: PUNCT\n",
            "and: CCONJ\n",
            "technology: NOUN\n",
            ".: PUNCT\n",
            "\n",
            ": SPACE\n"
          ]
        }
      ],
      "source": [
        "for token in doc:\n",
        "    print(f\"{token.text}: {token.pos_}\")\n"
      ]
    },
    {
      "cell_type": "code",
      "execution_count": 105,
      "metadata": {
        "colab": {
          "base_uri": "https://localhost:8080/"
        },
        "id": "Pqre-o8AaXRA",
        "outputId": "3a0f98e9-61db-4c96-b8b9-61ed476ea692"
      },
      "outputs": [
        {
          "output_type": "stream",
          "name": "stdout",
          "text": [
            "['India', 'is', 'a', 'great', 'country', 'where', 'people', 'speak', 'different', 'languages', 'but', 'the', 'national', 'language', 'is', 'Hindi', '.', 'India', 'is', 'full', 'of', 'different', 'castes', ',', 'creeds', ',', 'religion', ',', 'and', 'cultures', 'but', 'they', 'live', 'together', '.', 'That', '’s', 'the', 'reasons', 'India', 'is', 'famous', 'for', 'the', 'common', 'saying', 'of', '“', 'unity', 'in', 'diversity', '“', '.', 'India', 'is', 'the', 'seventh', '-', 'largest', 'country', 'in', 'the', 'whole', 'world', '.', '\\n\\n', 'Geography', 'and', 'Culture', '\\n', 'India', 'has', 'the', 'second', '-', 'largest', 'population', 'in', 'the', 'world', '.', 'India', 'is', 'also', 'knowns', 'as', 'Bharat', ',', 'Hindustan', 'and', 'sometimes', 'Aryavart', '.', 'It', 'is', 'surrounded', 'by', 'oceans', 'from', 'three', 'sides', 'which', 'are', 'Bay', 'Of', 'Bengal', 'in', 'the', 'east', ',', 'the', 'Arabian', 'Sea', 'in', 'the', 'west', 'and', 'Indian', 'oceans', 'in', 'the', 'south', '.', 'Tiger', 'is', 'the', 'national', 'animal', 'of', 'India', '.', 'Peacock', 'is', 'the', 'national', 'bird', 'of', 'India', '.', 'Mango', 'is', 'the', 'national', 'fruit', 'of', 'India', '.', '“', 'Jana', 'Gana', 'Mana', '”', 'is', 'the', 'national', 'anthem', 'of', 'India', '.', '“', 'Vande', 'Mataram', '”', 'is', 'the', 'national', 'song', 'of', 'India', '.', 'Hockey', 'is', 'the', 'national', 'sport', 'of', 'India', '.', 'People', 'of', 'different', 'religions', 'such', 'as', 'Hinduism', ',', 'Buddhism', ',', 'Jainism', ',', 'Sikhism', ',', 'Islam', ',', 'Christianity', 'and', 'Judaism', 'lives', 'together', 'from', 'ancient', 'times', '.', 'India', 'is', 'also', 'rich', 'in', 'monuments', ',', 'tombs', ',', 'churches', ',', 'historical', 'buildings', ',', 'temples', ',', 'museums', ',', 'scenic', 'beauty', ',', 'wildlife', 'sanctuaries', ',', 'places', 'of', 'architecture', 'and', 'many', 'more', '.', 'The', 'great', 'leaders', 'and', 'freedom', 'fighters', 'are', 'from', 'India', '.', '\\n\\n', 'Flag', 'of', 'India', '\\n', 'The', 'Indian', 'flag', 'has', 'tricolors', '\\n', 'Saffron', '\\n', 'White', '\\n', 'Green', '.', '\\n', 'The', 'first', 'color', 'that', 'is', 'uppermost', 'color', 'in', 'the', 'flag', 'which', 'is', 'the', 'saffron', 'color', ',', 'stands', 'for', 'purity', '.', 'The', 'second', 'color', 'i.e.', 'the', 'middle', 'color', 'in', 'the', 'flag', 'is', 'the', 'white', 'color', 'and', 'it', 'stands', 'for', 'peace', '.', 'The', 'third', 'color', 'that', 'is', 'the', 'lowest', 'color', 'in', 'the', 'flag', 'is', 'the', 'green', 'color', 'and', 'it', 'stands', 'for', 'fertility', '.', 'The', 'white', 'color', 'has', 'an', 'Ashoka', 'Chakra', 'of', 'blue', 'color', 'on', 'it', '.', 'Ashoka', 'Chakra', 'contains', 'twenty', '-', 'four', 'spokes', 'which', 'are', 'equally', 'divided', '.', 'India', 'has', '29', 'states', 'and', '7', 'union', 'territories', '.', '\\n', 'My', 'Favorite', 'States', 'from', 'India', 'are', 'as', 'follows', '–', '\\n', 'Rajasthan', '\\n', 'Rajasthan', 'itself', 'has', 'a', 'glorious', 'history', '.', 'It', 'is', 'famous', 'for', 'many', 'brave', 'kings', ',', 'their', 'deeds', ',', 'and', 'their', 'art', 'and', 'architecture', '.', 'It', 'has', 'a', 'sandy', 'track', 'that', '’s', 'why', 'the', 'nuclear', 'test', 'was', 'held', 'here', '.', 'Rajasthan', 'is', 'full', 'of', 'desert', ',', 'mountain', 'range', ',', 'lakes', ',', 'dense', 'forest', ',', 'attractive', 'oases', ',', 'and', 'temples', ',', 'etc', '.', 'Rajasthan', 'is', 'also', 'known', 'as', '“', 'Land', 'Of', 'Sacrifice', '”', '.', 'In', 'Rajasthan', ',', 'you', 'can', 'see', 'heritage', 'things', 'of', 'all', 'the', 'kings', 'who', 'ruled', 'over', 'there', 'and', 'for', 'that', ',', 'you', 'can', 'visit', 'Udaipur', ',', 'Jodhpur', ',', 'Jaisalmer', ',', 'Chittaurgarh', ',', 'etc', '.', '\\n\\n', 'Madhya', 'Pradesh', '\\n', 'Madhya', 'Pradesh', 'is', 'bigger', 'than', 'a', 'foreign', '(', 'Italy', ')', 'country', 'and', 'smaller', 'than', 'Oman', '.', 'It', 'also', 'has', 'tourists', 'attractions', 'for', 'its', 'places', '.', 'In', 'Madhya', 'Pradesh', ',', 'you', 'can', 'see', 'temples', ',', 'lakes', ',', 'fort', ',', 'art', 'and', 'architecture', ',', 'rivers', ',', 'jungles', ',', 'and', 'many', 'things', '.', 'You', 'can', 'visit', 'in', 'Indore', ',', 'Jabalpur', ',', 'Ujjain', ',', 'Bhopal', ',', 'Gwalior', 'and', 'many', 'cities', '.', 'Khajuraho', ',', 'Sanchi', 'Stupa', ',', 'Pachmarhi', ',', 'Kanha', 'national', 'park', ',', 'Mandu', ',', 'etc', '.', 'are', 'the', 'places', 'must', 'visit', '.', '\\n\\n', 'Jammu', 'and', 'Kashmir', '\\n', 'Jammu', 'and', 'Kashmir', 'are', 'known', 'as', 'heaven', 'on', 'earth', '.', 'We', 'can', 'also', 'call', 'Jammu', 'and', 'Kashmir', 'as', 'Tourists', 'Paradise', '.', 'There', 'are', 'many', 'places', 'to', 'visit', 'Jammu', 'and', 'Kashmir', 'because', 'they', 'have', 'an', 'undisturbed', 'landscape', ',', 'motorable', 'road', ',', 'beauty', ',', 'lying', 'on', 'the', 'banks', 'of', 'river', 'Jhelum', ',', 'harmony', ',', 'romance', ',', 'sceneries', ',', 'temples', 'and', 'many', 'more', '.', '\\n\\n', 'In', 'Jammu', 'and', 'Kashmir', ',', 'u', 'can', 'enjoy', 'boating', ',', 'skiing', ',', 'skating', ',', 'mountaineering', ',', 'horse', 'riding', ',', 'fishing', ',', 'snowfall', ',', 'etc', '.', 'In', 'Jammu', 'and', 'Kashmir', ',', 'you', 'can', 'see', 'a', 'variety', 'of', 'places', 'such', 'as', 'Srinagar', ',', 'Vaishnav', 'Devi', ',', 'Gulmarg', ',', 'Amarnath', ',', 'Patnitop', ',', 'Pahalgam', ',', 'Sonamarg', ',', 'Lamayuru', ',', 'Nubra', 'Valley', ',', 'Hemis', ',', 'Sanasar', ',', ' ', 'Anantnag', ',', ' ', 'Kargil', ',', 'Dachigam', 'National', 'Park', ',', 'Pulwama', ',', 'Khilanmarg', ',', 'Dras', ',', 'Baltal', ',', 'Bhaderwah', ',', 'Pangong', 'Lake', ',', 'Magnetic', 'Hill', ',', 'Tso', 'Moriri', ',', 'Khardung', 'La', ',', 'Aru', 'Valley', ',', 'Suru', 'Basin', ',', 'Chadar', 'Trek', ',', 'Zanskar', 'Valley', ',', 'Alchi', 'Monastery', ',', 'Darcha', 'Padum', 'Trek', ',', 'Kishtwar', 'National', 'Park', ',', 'Changthang', 'Wildlife', 'Sanctuary', ',', 'Nyoma', ',', 'Dha', 'Hanu', ',', 'Uleytokpo', ',', 'Yusmarg', ',', 'Tarsar', 'Marsar', 'Trek', 'and', 'many', 'more', '.', '\\n\\n', 'Kerela', '\\n', 'It', 'is', 'known', 'as', 'the', '‘', 'God', '’s', 'Own', 'Country', '’', ',', 'Kerala', 'is', 'a', 'state', 'in', 'India', ',', 'situated', 'in', 'the', 'southwest', 'region', ',', 'it', 'is', 'bordered', 'by', 'a', 'number', 'of', 'beaches', ';', 'covered', 'by', 'hills', 'of', 'Western', 'Ghats', 'and', 'filled', 'with', 'backwaters', ',', 'it', 'is', 'a', 'tourist', 'destination', 'attracting', 'people', 'by', 'its', 'natural', 'beauty', '.', 'The', 'most', 'important', 'destinations', 'which', 'you', 'can', 'see', 'in', 'Kerela', 'are', 'the', 'museum', ',', 'sanctuary', ',', 'temples', ',', 'backwaters', ',', 'and', 'beaches', '.', 'Munnar', ',', 'Kovalam', ',', 'Kumarakom', ',', 'and', 'Alappad', '.', '\\n\\n', 'Conclusion', '\\n', 'India', 'is', 'a', 'great', 'country', 'having', 'different', 'cultures', ',', 'castes', ',', 'creed', ',', 'religions', 'but', 'still', ',', 'they', 'live', 'together', '.', 'India', 'is', 'known', 'for', 'its', 'heritage', ',', 'spices', ',', 'and', 'of', 'course', ',', 'for', 'people', 'who', 'live', 'here', '.', 'That', '’s', 'the', 'reasons', 'India', 'is', 'famous', 'for', 'the', 'common', 'saying', 'of', '“', 'unity', 'in', 'diversity', '”', '.', 'India', 'is', 'also', 'well', 'known', 'as', 'the', 'land', 'of', 'spirituality', ',', 'philosophy', ',', 'science', ',', 'and', 'technology', '.', '\\n']\n"
          ]
        }
      ],
      "source": [
        "tokens = [token.text for token in doc]\n",
        "print(tokens)"
      ]
    },
    {
      "cell_type": "code",
      "execution_count": 106,
      "metadata": {
        "colab": {
          "base_uri": "https://localhost:8080/",
          "height": 36
        },
        "id": "Tn2Uv-F3HDpw",
        "outputId": "529472b5-8c50-4e35-ae86-05ed58688a02"
      },
      "outputs": [
        {
          "output_type": "execute_result",
          "data": {
            "text/plain": [
              "'!\"#$%&\\'()*+,-./:;<=>?@[\\\\]^_`{|}~\\n'"
            ],
            "application/vnd.google.colaboratory.intrinsic+json": {
              "type": "string"
            }
          },
          "metadata": {},
          "execution_count": 106
        }
      ],
      "source": [
        "punctuation = punctuation + '\\n'\n",
        "punctuation"
      ]
    },
    {
      "cell_type": "code",
      "execution_count": 107,
      "metadata": {
        "id": "huSfsmdrWK84"
      },
      "outputs": [],
      "source": [
        "word_frequencies = {}\n",
        "for word in doc:\n",
        "  if word.text.lower() not in stopwords:\n",
        "    if word.text.lower() not in punctuation:\n",
        "      if word.text not in word_frequencies.keys():\n",
        "        word_frequencies[word.text] = 1\n",
        "      else:\n",
        "        word_frequencies[word.text] += 1"
      ]
    },
    {
      "cell_type": "code",
      "execution_count": 108,
      "metadata": {
        "colab": {
          "base_uri": "https://localhost:8080/"
        },
        "id": "EgiBcbxFXZj2",
        "outputId": "8d39ccb8-3c38-4f56-d68a-cfff75dd7014"
      },
      "outputs": [
        {
          "output_type": "stream",
          "name": "stdout",
          "text": [
            "{'India': 22, 'great': 3, 'country': 4, 'people': 3, 'speak': 1, 'different': 4, 'languages': 1, 'national': 8, 'language': 1, 'Hindi': 1, 'castes': 2, 'creeds': 1, 'religion': 1, 'cultures': 2, 'live': 3, 'reasons': 2, 'famous': 3, 'common': 2, 'saying': 2, '“': 6, 'unity': 2, 'diversity': 2, 'seventh': 1, 'largest': 2, 'world': 2, '\\n\\n': 7, 'Geography': 1, 'Culture': 1, 'second': 2, 'population': 1, 'knowns': 1, 'Bharat': 1, 'Hindustan': 1, 'Aryavart': 1, 'surrounded': 1, 'oceans': 2, 'sides': 1, 'Bay': 1, 'Bengal': 1, 'east': 1, 'Arabian': 1, 'Sea': 1, 'west': 1, 'Indian': 2, 'south': 1, 'Tiger': 1, 'animal': 1, 'Peacock': 1, 'bird': 1, 'Mango': 1, 'fruit': 1, 'Jana': 1, 'Gana': 1, 'Mana': 1, '”': 4, 'anthem': 1, 'Vande': 1, 'Mataram': 1, 'song': 1, 'Hockey': 1, 'sport': 1, 'People': 1, 'religions': 2, 'Hinduism': 1, 'Buddhism': 1, 'Jainism': 1, 'Sikhism': 1, 'Islam': 1, 'Christianity': 1, 'Judaism': 1, 'lives': 1, 'ancient': 1, 'times': 1, 'rich': 1, 'monuments': 1, 'tombs': 1, 'churches': 1, 'historical': 1, 'buildings': 1, 'temples': 5, 'museums': 1, 'scenic': 1, 'beauty': 3, 'wildlife': 1, 'sanctuaries': 1, 'places': 5, 'architecture': 3, 'leaders': 1, 'freedom': 1, 'fighters': 1, 'Flag': 1, 'flag': 4, 'tricolors': 1, 'Saffron': 1, 'White': 1, 'Green': 1, 'color': 11, 'uppermost': 1, 'saffron': 1, 'stands': 3, 'purity': 1, 'i.e.': 1, 'middle': 1, 'white': 2, 'peace': 1, 'lowest': 1, 'green': 1, 'fertility': 1, 'Ashoka': 2, 'Chakra': 2, 'blue': 1, 'contains': 1, 'spokes': 1, 'equally': 1, 'divided': 1, '29': 1, 'states': 1, '7': 1, 'union': 1, 'territories': 1, 'Favorite': 1, 'States': 1, 'follows': 1, '–': 1, 'Rajasthan': 5, 'glorious': 1, 'history': 1, 'brave': 1, 'kings': 2, 'deeds': 1, 'art': 2, 'sandy': 1, 'track': 1, 'nuclear': 1, 'test': 1, 'held': 1, 'desert': 1, 'mountain': 1, 'range': 1, 'lakes': 2, 'dense': 1, 'forest': 1, 'attractive': 1, 'oases': 1, 'etc': 4, 'known': 5, 'Land': 1, 'Sacrifice': 1, 'heritage': 2, 'things': 2, 'ruled': 1, 'visit': 4, 'Udaipur': 1, 'Jodhpur': 1, 'Jaisalmer': 1, 'Chittaurgarh': 1, 'Madhya': 3, 'Pradesh': 3, 'bigger': 1, 'foreign': 1, 'Italy': 1, 'smaller': 1, 'Oman': 1, 'tourists': 1, 'attractions': 1, 'fort': 1, 'rivers': 1, 'jungles': 1, 'Indore': 1, 'Jabalpur': 1, 'Ujjain': 1, 'Bhopal': 1, 'Gwalior': 1, 'cities': 1, 'Khajuraho': 1, 'Sanchi': 1, 'Stupa': 1, 'Pachmarhi': 1, 'Kanha': 1, 'park': 1, 'Mandu': 1, 'Jammu': 6, 'Kashmir': 6, 'heaven': 1, 'earth': 1, 'Tourists': 1, 'Paradise': 1, 'undisturbed': 1, 'landscape': 1, 'motorable': 1, 'road': 1, 'lying': 1, 'banks': 1, 'river': 1, 'Jhelum': 1, 'harmony': 1, 'romance': 1, 'sceneries': 1, 'u': 1, 'enjoy': 1, 'boating': 1, 'skiing': 1, 'skating': 1, 'mountaineering': 1, 'horse': 1, 'riding': 1, 'fishing': 1, 'snowfall': 1, 'variety': 1, 'Srinagar': 1, 'Vaishnav': 1, 'Devi': 1, 'Gulmarg': 1, 'Amarnath': 1, 'Patnitop': 1, 'Pahalgam': 1, 'Sonamarg': 1, 'Lamayuru': 1, 'Nubra': 1, 'Valley': 3, 'Hemis': 1, 'Sanasar': 1, ' ': 2, 'Anantnag': 1, 'Kargil': 1, 'Dachigam': 1, 'National': 2, 'Park': 2, 'Pulwama': 1, 'Khilanmarg': 1, 'Dras': 1, 'Baltal': 1, 'Bhaderwah': 1, 'Pangong': 1, 'Lake': 1, 'Magnetic': 1, 'Hill': 1, 'Tso': 1, 'Moriri': 1, 'Khardung': 1, 'La': 1, 'Aru': 1, 'Suru': 1, 'Basin': 1, 'Chadar': 1, 'Trek': 3, 'Zanskar': 1, 'Alchi': 1, 'Monastery': 1, 'Darcha': 1, 'Padum': 1, 'Kishtwar': 1, 'Changthang': 1, 'Wildlife': 1, 'Sanctuary': 1, 'Nyoma': 1, 'Dha': 1, 'Hanu': 1, 'Uleytokpo': 1, 'Yusmarg': 1, 'Tarsar': 1, 'Marsar': 1, 'Kerela': 2, '‘': 1, 'God': 1, 'Country': 1, '’': 1, 'Kerala': 1, 'state': 1, 'situated': 1, 'southwest': 1, 'region': 1, 'bordered': 1, 'number': 1, 'beaches': 2, 'covered': 1, 'hills': 1, 'Western': 1, 'Ghats': 1, 'filled': 1, 'backwaters': 2, 'tourist': 1, 'destination': 1, 'attracting': 1, 'natural': 1, 'important': 1, 'destinations': 1, 'museum': 1, 'sanctuary': 1, 'Munnar': 1, 'Kovalam': 1, 'Kumarakom': 1, 'Alappad': 1, 'Conclusion': 1, 'having': 1, 'creed': 1, 'spices': 1, 'course': 1, 'land': 1, 'spirituality': 1, 'philosophy': 1, 'science': 1, 'technology': 1}\n"
          ]
        }
      ],
      "source": [
        "print(word_frequencies)"
      ]
    },
    {
      "cell_type": "code",
      "execution_count": 109,
      "metadata": {
        "id": "59QpWTlkX6UC"
      },
      "outputs": [],
      "source": [
        "max_frequency = max(word_frequencies.values())"
      ]
    },
    {
      "cell_type": "code",
      "execution_count": 110,
      "metadata": {
        "colab": {
          "base_uri": "https://localhost:8080/"
        },
        "id": "oIQGF1vAYGoD",
        "outputId": "2b0f58cb-3816-4237-8aa4-9b21814b5f22"
      },
      "outputs": [
        {
          "output_type": "execute_result",
          "data": {
            "text/plain": [
              "22"
            ]
          },
          "metadata": {},
          "execution_count": 110
        }
      ],
      "source": [
        "max_frequency"
      ]
    },
    {
      "cell_type": "code",
      "execution_count": 111,
      "metadata": {
        "id": "Gx_S5rRXYX2H"
      },
      "outputs": [],
      "source": [
        "for word in word_frequencies.keys():\n",
        "  word_frequencies[word] = word_frequencies[word]/max_frequency"
      ]
    },
    {
      "cell_type": "code",
      "execution_count": 112,
      "metadata": {
        "colab": {
          "base_uri": "https://localhost:8080/"
        },
        "id": "H0QbAJA5YuG0",
        "outputId": "b8d06838-8944-49c8-fd44-0d8c9999112e"
      },
      "outputs": [
        {
          "output_type": "stream",
          "name": "stdout",
          "text": [
            "{'India': 1.0, 'great': 0.13636363636363635, 'country': 0.18181818181818182, 'people': 0.13636363636363635, 'speak': 0.045454545454545456, 'different': 0.18181818181818182, 'languages': 0.045454545454545456, 'national': 0.36363636363636365, 'language': 0.045454545454545456, 'Hindi': 0.045454545454545456, 'castes': 0.09090909090909091, 'creeds': 0.045454545454545456, 'religion': 0.045454545454545456, 'cultures': 0.09090909090909091, 'live': 0.13636363636363635, 'reasons': 0.09090909090909091, 'famous': 0.13636363636363635, 'common': 0.09090909090909091, 'saying': 0.09090909090909091, '“': 0.2727272727272727, 'unity': 0.09090909090909091, 'diversity': 0.09090909090909091, 'seventh': 0.045454545454545456, 'largest': 0.09090909090909091, 'world': 0.09090909090909091, '\\n\\n': 0.3181818181818182, 'Geography': 0.045454545454545456, 'Culture': 0.045454545454545456, 'second': 0.09090909090909091, 'population': 0.045454545454545456, 'knowns': 0.045454545454545456, 'Bharat': 0.045454545454545456, 'Hindustan': 0.045454545454545456, 'Aryavart': 0.045454545454545456, 'surrounded': 0.045454545454545456, 'oceans': 0.09090909090909091, 'sides': 0.045454545454545456, 'Bay': 0.045454545454545456, 'Bengal': 0.045454545454545456, 'east': 0.045454545454545456, 'Arabian': 0.045454545454545456, 'Sea': 0.045454545454545456, 'west': 0.045454545454545456, 'Indian': 0.09090909090909091, 'south': 0.045454545454545456, 'Tiger': 0.045454545454545456, 'animal': 0.045454545454545456, 'Peacock': 0.045454545454545456, 'bird': 0.045454545454545456, 'Mango': 0.045454545454545456, 'fruit': 0.045454545454545456, 'Jana': 0.045454545454545456, 'Gana': 0.045454545454545456, 'Mana': 0.045454545454545456, '”': 0.18181818181818182, 'anthem': 0.045454545454545456, 'Vande': 0.045454545454545456, 'Mataram': 0.045454545454545456, 'song': 0.045454545454545456, 'Hockey': 0.045454545454545456, 'sport': 0.045454545454545456, 'People': 0.045454545454545456, 'religions': 0.09090909090909091, 'Hinduism': 0.045454545454545456, 'Buddhism': 0.045454545454545456, 'Jainism': 0.045454545454545456, 'Sikhism': 0.045454545454545456, 'Islam': 0.045454545454545456, 'Christianity': 0.045454545454545456, 'Judaism': 0.045454545454545456, 'lives': 0.045454545454545456, 'ancient': 0.045454545454545456, 'times': 0.045454545454545456, 'rich': 0.045454545454545456, 'monuments': 0.045454545454545456, 'tombs': 0.045454545454545456, 'churches': 0.045454545454545456, 'historical': 0.045454545454545456, 'buildings': 0.045454545454545456, 'temples': 0.22727272727272727, 'museums': 0.045454545454545456, 'scenic': 0.045454545454545456, 'beauty': 0.13636363636363635, 'wildlife': 0.045454545454545456, 'sanctuaries': 0.045454545454545456, 'places': 0.22727272727272727, 'architecture': 0.13636363636363635, 'leaders': 0.045454545454545456, 'freedom': 0.045454545454545456, 'fighters': 0.045454545454545456, 'Flag': 0.045454545454545456, 'flag': 0.18181818181818182, 'tricolors': 0.045454545454545456, 'Saffron': 0.045454545454545456, 'White': 0.045454545454545456, 'Green': 0.045454545454545456, 'color': 0.5, 'uppermost': 0.045454545454545456, 'saffron': 0.045454545454545456, 'stands': 0.13636363636363635, 'purity': 0.045454545454545456, 'i.e.': 0.045454545454545456, 'middle': 0.045454545454545456, 'white': 0.09090909090909091, 'peace': 0.045454545454545456, 'lowest': 0.045454545454545456, 'green': 0.045454545454545456, 'fertility': 0.045454545454545456, 'Ashoka': 0.09090909090909091, 'Chakra': 0.09090909090909091, 'blue': 0.045454545454545456, 'contains': 0.045454545454545456, 'spokes': 0.045454545454545456, 'equally': 0.045454545454545456, 'divided': 0.045454545454545456, '29': 0.045454545454545456, 'states': 0.045454545454545456, '7': 0.045454545454545456, 'union': 0.045454545454545456, 'territories': 0.045454545454545456, 'Favorite': 0.045454545454545456, 'States': 0.045454545454545456, 'follows': 0.045454545454545456, '–': 0.045454545454545456, 'Rajasthan': 0.22727272727272727, 'glorious': 0.045454545454545456, 'history': 0.045454545454545456, 'brave': 0.045454545454545456, 'kings': 0.09090909090909091, 'deeds': 0.045454545454545456, 'art': 0.09090909090909091, 'sandy': 0.045454545454545456, 'track': 0.045454545454545456, 'nuclear': 0.045454545454545456, 'test': 0.045454545454545456, 'held': 0.045454545454545456, 'desert': 0.045454545454545456, 'mountain': 0.045454545454545456, 'range': 0.045454545454545456, 'lakes': 0.09090909090909091, 'dense': 0.045454545454545456, 'forest': 0.045454545454545456, 'attractive': 0.045454545454545456, 'oases': 0.045454545454545456, 'etc': 0.18181818181818182, 'known': 0.22727272727272727, 'Land': 0.045454545454545456, 'Sacrifice': 0.045454545454545456, 'heritage': 0.09090909090909091, 'things': 0.09090909090909091, 'ruled': 0.045454545454545456, 'visit': 0.18181818181818182, 'Udaipur': 0.045454545454545456, 'Jodhpur': 0.045454545454545456, 'Jaisalmer': 0.045454545454545456, 'Chittaurgarh': 0.045454545454545456, 'Madhya': 0.13636363636363635, 'Pradesh': 0.13636363636363635, 'bigger': 0.045454545454545456, 'foreign': 0.045454545454545456, 'Italy': 0.045454545454545456, 'smaller': 0.045454545454545456, 'Oman': 0.045454545454545456, 'tourists': 0.045454545454545456, 'attractions': 0.045454545454545456, 'fort': 0.045454545454545456, 'rivers': 0.045454545454545456, 'jungles': 0.045454545454545456, 'Indore': 0.045454545454545456, 'Jabalpur': 0.045454545454545456, 'Ujjain': 0.045454545454545456, 'Bhopal': 0.045454545454545456, 'Gwalior': 0.045454545454545456, 'cities': 0.045454545454545456, 'Khajuraho': 0.045454545454545456, 'Sanchi': 0.045454545454545456, 'Stupa': 0.045454545454545456, 'Pachmarhi': 0.045454545454545456, 'Kanha': 0.045454545454545456, 'park': 0.045454545454545456, 'Mandu': 0.045454545454545456, 'Jammu': 0.2727272727272727, 'Kashmir': 0.2727272727272727, 'heaven': 0.045454545454545456, 'earth': 0.045454545454545456, 'Tourists': 0.045454545454545456, 'Paradise': 0.045454545454545456, 'undisturbed': 0.045454545454545456, 'landscape': 0.045454545454545456, 'motorable': 0.045454545454545456, 'road': 0.045454545454545456, 'lying': 0.045454545454545456, 'banks': 0.045454545454545456, 'river': 0.045454545454545456, 'Jhelum': 0.045454545454545456, 'harmony': 0.045454545454545456, 'romance': 0.045454545454545456, 'sceneries': 0.045454545454545456, 'u': 0.045454545454545456, 'enjoy': 0.045454545454545456, 'boating': 0.045454545454545456, 'skiing': 0.045454545454545456, 'skating': 0.045454545454545456, 'mountaineering': 0.045454545454545456, 'horse': 0.045454545454545456, 'riding': 0.045454545454545456, 'fishing': 0.045454545454545456, 'snowfall': 0.045454545454545456, 'variety': 0.045454545454545456, 'Srinagar': 0.045454545454545456, 'Vaishnav': 0.045454545454545456, 'Devi': 0.045454545454545456, 'Gulmarg': 0.045454545454545456, 'Amarnath': 0.045454545454545456, 'Patnitop': 0.045454545454545456, 'Pahalgam': 0.045454545454545456, 'Sonamarg': 0.045454545454545456, 'Lamayuru': 0.045454545454545456, 'Nubra': 0.045454545454545456, 'Valley': 0.13636363636363635, 'Hemis': 0.045454545454545456, 'Sanasar': 0.045454545454545456, ' ': 0.09090909090909091, 'Anantnag': 0.045454545454545456, 'Kargil': 0.045454545454545456, 'Dachigam': 0.045454545454545456, 'National': 0.09090909090909091, 'Park': 0.09090909090909091, 'Pulwama': 0.045454545454545456, 'Khilanmarg': 0.045454545454545456, 'Dras': 0.045454545454545456, 'Baltal': 0.045454545454545456, 'Bhaderwah': 0.045454545454545456, 'Pangong': 0.045454545454545456, 'Lake': 0.045454545454545456, 'Magnetic': 0.045454545454545456, 'Hill': 0.045454545454545456, 'Tso': 0.045454545454545456, 'Moriri': 0.045454545454545456, 'Khardung': 0.045454545454545456, 'La': 0.045454545454545456, 'Aru': 0.045454545454545456, 'Suru': 0.045454545454545456, 'Basin': 0.045454545454545456, 'Chadar': 0.045454545454545456, 'Trek': 0.13636363636363635, 'Zanskar': 0.045454545454545456, 'Alchi': 0.045454545454545456, 'Monastery': 0.045454545454545456, 'Darcha': 0.045454545454545456, 'Padum': 0.045454545454545456, 'Kishtwar': 0.045454545454545456, 'Changthang': 0.045454545454545456, 'Wildlife': 0.045454545454545456, 'Sanctuary': 0.045454545454545456, 'Nyoma': 0.045454545454545456, 'Dha': 0.045454545454545456, 'Hanu': 0.045454545454545456, 'Uleytokpo': 0.045454545454545456, 'Yusmarg': 0.045454545454545456, 'Tarsar': 0.045454545454545456, 'Marsar': 0.045454545454545456, 'Kerela': 0.09090909090909091, '‘': 0.045454545454545456, 'God': 0.045454545454545456, 'Country': 0.045454545454545456, '’': 0.045454545454545456, 'Kerala': 0.045454545454545456, 'state': 0.045454545454545456, 'situated': 0.045454545454545456, 'southwest': 0.045454545454545456, 'region': 0.045454545454545456, 'bordered': 0.045454545454545456, 'number': 0.045454545454545456, 'beaches': 0.09090909090909091, 'covered': 0.045454545454545456, 'hills': 0.045454545454545456, 'Western': 0.045454545454545456, 'Ghats': 0.045454545454545456, 'filled': 0.045454545454545456, 'backwaters': 0.09090909090909091, 'tourist': 0.045454545454545456, 'destination': 0.045454545454545456, 'attracting': 0.045454545454545456, 'natural': 0.045454545454545456, 'important': 0.045454545454545456, 'destinations': 0.045454545454545456, 'museum': 0.045454545454545456, 'sanctuary': 0.045454545454545456, 'Munnar': 0.045454545454545456, 'Kovalam': 0.045454545454545456, 'Kumarakom': 0.045454545454545456, 'Alappad': 0.045454545454545456, 'Conclusion': 0.045454545454545456, 'having': 0.045454545454545456, 'creed': 0.045454545454545456, 'spices': 0.045454545454545456, 'course': 0.045454545454545456, 'land': 0.045454545454545456, 'spirituality': 0.045454545454545456, 'philosophy': 0.045454545454545456, 'science': 0.045454545454545456, 'technology': 0.045454545454545456}\n"
          ]
        }
      ],
      "source": [
        "print(word_frequencies)"
      ]
    },
    {
      "cell_type": "code",
      "execution_count": 113,
      "metadata": {
        "colab": {
          "base_uri": "https://localhost:8080/"
        },
        "id": "d9vbQAUDZCUV",
        "outputId": "eb9c3f51-51b1-4e01-efbc-7dcbf7e16b80"
      },
      "outputs": [
        {
          "output_type": "stream",
          "name": "stdout",
          "text": [
            "[India is a great country where people speak different languages but the national language is Hindi., India is full of different castes, creeds, religion, and cultures but they live together., That’s the reasons India is famous for the common saying of “unity in diversity“., India is the seventh-largest country in the whole world.\n",
            "\n",
            ", Geography and Culture\n",
            "India has the second-largest population in the world., India is also knowns as Bharat, Hindustan and sometimes Aryavart., It is surrounded by oceans from three sides which are Bay Of Bengal in the east, the Arabian Sea in the west and Indian oceans in the south., Tiger is the national animal of India., Peacock is the national bird of India., Mango is the national fruit of India., “Jana Gana Mana” is the national anthem of India., “Vande Mataram” is the national song of India., Hockey is the national sport of India., People of different religions such as Hinduism, Buddhism, Jainism, Sikhism, Islam, Christianity and Judaism lives together from ancient times., India is also rich in monuments, tombs, churches, historical buildings, temples, museums, scenic beauty, wildlife sanctuaries, places of architecture and many more., The great leaders and freedom fighters are from India.\n",
            "\n",
            ", Flag of India\n",
            "The Indian flag has tricolors\n",
            "Saffron\n",
            "White\n",
            "Green.\n",
            ", The first color that is uppermost color in the flag which is the saffron color, stands for purity., The second color i.e. the middle color in the flag is the white color and it stands for peace., The third color that is the lowest color in the flag is the green color and it stands for fertility., The white color has an Ashoka Chakra of blue color on it., Ashoka Chakra contains twenty-four spokes which are equally divided., India has 29 states and 7 union territories.\n",
            ", My Favorite States from India are as follows –\n",
            "Rajasthan\n",
            "Rajasthan itself has a glorious history., It is famous for many brave kings, their deeds, and their art and architecture., It has a sandy track that’s why the nuclear test was held here., Rajasthan is full of desert, mountain range, lakes, dense forest, attractive oases, and temples, etc., Rajasthan is also known as “Land Of Sacrifice”., In Rajasthan, you can see heritage things of all the kings who ruled over there and for that, you can visit Udaipur, Jodhpur, Jaisalmer, Chittaurgarh, etc.\n",
            "\n",
            ", Madhya Pradesh\n",
            "Madhya Pradesh is bigger than a foreign (Italy) country and smaller than Oman., It also has tourists attractions for its places., In Madhya Pradesh, you can see temples, lakes, fort, art and architecture, rivers, jungles, and many things., You can visit in Indore, Jabalpur, Ujjain, Bhopal, Gwalior and many cities., Khajuraho, Sanchi Stupa, Pachmarhi, Kanha national park, Mandu, etc. are the places must visit.\n",
            "\n",
            ", Jammu and Kashmir\n",
            "Jammu and Kashmir are known as heaven on earth., We can also call Jammu and Kashmir as Tourists Paradise., There are many places to visit Jammu and Kashmir because they have an undisturbed landscape, motorable road, beauty, lying on the banks of river Jhelum, harmony, romance, sceneries, temples and many more.\n",
            "\n",
            ", In Jammu and Kashmir, u can enjoy boating, skiing, skating, mountaineering, horse riding, fishing, snowfall, etc., In Jammu and Kashmir, you can see a variety of places such as Srinagar, Vaishnav Devi, Gulmarg, Amarnath, Patnitop, Pahalgam, Sonamarg, Lamayuru, Nubra Valley, Hemis, Sanasar,  Anantnag,  Kargil, Dachigam National Park, Pulwama, Khilanmarg, Dras, Baltal, Bhaderwah, Pangong Lake, Magnetic Hill, Tso Moriri, Khardung La, Aru Valley, Suru Basin,Chadar Trek, Zanskar Valley, Alchi Monastery, Darcha Padum Trek, Kishtwar National Park, Changthang Wildlife Sanctuary, Nyoma, Dha Hanu, Uleytokpo, Yusmarg, Tarsar Marsar Trek and many more.\n",
            "\n",
            ", Kerela\n",
            "It is known as the ‘God’s Own Country’, Kerala is a state in India, situated in the southwest region, it is bordered by a number of beaches; covered by hills of Western Ghats and filled with backwaters, it is a tourist destination attracting people by its natural beauty., The most important destinations which you can see in Kerela are the museum, sanctuary, temples, backwaters, and beaches., Munnar, Kovalam, Kumarakom, and Alappad.\n",
            "\n",
            ", Conclusion\n",
            "India is a great country having different cultures, castes, creed, religions but still, they live together., India is known for its heritage, spices, and of course, for people who live here., That’s the reasons India is famous for the common saying of “unity in diversity”., India is also well known as the land of spirituality, philosophy, science, and technology.\n",
            "]\n"
          ]
        }
      ],
      "source": [
        "sentence_tokens = [sent for sent in doc.sents]\n",
        "print(sentence_tokens)"
      ]
    },
    {
      "cell_type": "code",
      "execution_count": 114,
      "metadata": {
        "id": "-3Ee54JWZk5G"
      },
      "outputs": [],
      "source": [
        "sentence_scores = {}\n",
        "for sent in sentence_tokens:\n",
        "  for word in sent:\n",
        "    if word.text.lower() in word_frequencies.keys():\n",
        "      if sent not in sentence_scores.keys():\n",
        "        sentence_scores[sent] = word_frequencies[word.text.lower()]\n",
        "      else:\n",
        "        sentence_scores[sent] += word_frequencies[word.text.lower()]\n"
      ]
    },
    {
      "cell_type": "code",
      "execution_count": 115,
      "metadata": {
        "colab": {
          "base_uri": "https://localhost:8080/"
        },
        "id": "eHuAYodnIg5I",
        "outputId": "1b0906c1-2ea1-410a-f644-8fb85d118eed"
      },
      "outputs": [
        {
          "output_type": "execute_result",
          "data": {
            "text/plain": [
              "{India is a great country where people speak different languages but the national language is Hindi.: 1.1363636363636362,\n",
              " India is full of different castes, creeds, religion, and cultures but they live together.: 0.5909090909090909,\n",
              " That’s the reasons India is famous for the common saying of “unity in diversity“.: 1.1363636363636362,\n",
              " India is the seventh-largest country in the whole world.\n",
              " : 0.7272727272727273,\n",
              " Geography and Culture\n",
              " India has the second-largest population in the world.: 0.31818181818181823,\n",
              " India is also knowns as Bharat, Hindustan and sometimes Aryavart.: 0.045454545454545456,\n",
              " It is surrounded by oceans from three sides which are Bay Of Bengal in the east, the Arabian Sea in the west and Indian oceans in the south.: 0.4090909090909091,\n",
              " Tiger is the national animal of India.: 0.4090909090909091,\n",
              " Peacock is the national bird of India.: 0.4090909090909091,\n",
              " Mango is the national fruit of India.: 0.4090909090909091,\n",
              " “Jana Gana Mana” is the national anthem of India.: 0.8636363636363635,\n",
              " “Vande Mataram” is the national song of India.: 0.8636363636363635,\n",
              " Hockey is the national sport of India.: 0.4090909090909091,\n",
              " People of different religions such as Hinduism, Buddhism, Jainism, Sikhism, Islam, Christianity and Judaism lives together from ancient times.: 0.5454545454545454,\n",
              " India is also rich in monuments, tombs, churches, historical buildings, temples, museums, scenic beauty, wildlife sanctuaries, places of architecture and many more.: 1.1818181818181817,\n",
              " The great leaders and freedom fighters are from India.\n",
              " : 0.5909090909090909,\n",
              " Flag of India\n",
              " The Indian flag has tricolors\n",
              " Saffron\n",
              " White\n",
              " Green.: 0.5909090909090909,\n",
              " The first color that is uppermost color in the flag which is the saffron color, stands for purity.: 1.9545454545454546,\n",
              " The second color i.e. the middle color in the flag is the white color and it stands for peace.: 2.1363636363636362,\n",
              " The third color that is the lowest color in the flag is the green color and it stands for fertility.: 1.9545454545454546,\n",
              " The white color has an Ashoka Chakra of blue color on it.: 1.1363636363636362,\n",
              " Ashoka Chakra contains twenty-four spokes which are equally divided.: 0.18181818181818182,\n",
              " India has 29 states and 7 union territories.: 0.2272727272727273,\n",
              " My Favorite States from India are as follows –\n",
              " Rajasthan\n",
              " Rajasthan itself has a glorious history.: 0.2272727272727273,\n",
              " It is famous for many brave kings, their deeds, and their art and architecture.: 0.5454545454545454,\n",
              " It has a sandy track that’s why the nuclear test was held here.: 0.2272727272727273,\n",
              " Rajasthan is full of desert, mountain range, lakes, dense forest, attractive oases, and temples, etc.: 0.8181818181818181,\n",
              " Rajasthan is also known as “Land Of Sacrifice”.: 0.7272727272727273,\n",
              " In Rajasthan, you can see heritage things of all the kings who ruled over there and for that, you can visit Udaipur, Jodhpur, Jaisalmer, Chittaurgarh, etc.\n",
              " : 1.0,\n",
              " Madhya Pradesh\n",
              " Madhya Pradesh is bigger than a foreign (Italy) country and smaller than Oman.: 0.3181818181818182,\n",
              " It also has tourists attractions for its places.: 0.3181818181818182,\n",
              " In Madhya Pradesh, you can see temples, lakes, fort, art and architecture, rivers, jungles, and many things.: 0.7727272727272727,\n",
              " You can visit in Indore, Jabalpur, Ujjain, Bhopal, Gwalior and many cities.: 0.2272727272727273,\n",
              " Khajuraho, Sanchi Stupa, Pachmarhi, Kanha national park, Mandu, etc. are the places must visit.\n",
              " : 1.3181818181818181,\n",
              " Jammu and Kashmir\n",
              " Jammu and Kashmir are known as heaven on earth.: 0.3181818181818182,\n",
              " We can also call Jammu and Kashmir as Tourists Paradise.: 0.045454545454545456,\n",
              " There are many places to visit Jammu and Kashmir because they have an undisturbed landscape, motorable road, beauty, lying on the banks of river Jhelum, harmony, romance, sceneries, temples and many more.\n",
              " : 1.545454545454545,\n",
              " In Jammu and Kashmir, u can enjoy boating, skiing, skating, mountaineering, horse riding, fishing, snowfall, etc.: 0.6363636363636365,\n",
              " In Jammu and Kashmir, you can see a variety of places such as Srinagar, Vaishnav Devi, Gulmarg, Amarnath, Patnitop, Pahalgam, Sonamarg, Lamayuru, Nubra Valley, Hemis, Sanasar,  Anantnag,  Kargil, Dachigam National Park, Pulwama, Khilanmarg, Dras, Baltal, Bhaderwah, Pangong Lake, Magnetic Hill, Tso Moriri, Khardung La, Aru Valley, Suru Basin,Chadar Trek, Zanskar Valley, Alchi Monastery, Darcha Padum Trek, Kishtwar National Park, Changthang Wildlife Sanctuary, Nyoma, Dha Hanu, Uleytokpo, Yusmarg, Tarsar Marsar Trek and many more.\n",
              " : 1.6818181818181817,\n",
              " Kerela\n",
              " It is known as the ‘God’s Own Country’, Kerala is a state in India, situated in the southwest region, it is bordered by a number of beaches; covered by hills of Western Ghats and filled with backwaters, it is a tourist destination attracting people by its natural beauty.: 1.545454545454545,\n",
              " The most important destinations which you can see in Kerela are the museum, sanctuary, temples, backwaters, and beaches.: 0.5909090909090909,\n",
              " Munnar, Kovalam, Kumarakom, and Alappad.\n",
              " : 0.3181818181818182,\n",
              " Conclusion\n",
              " India is a great country having different cultures, castes, creed, religions but still, they live together.: 1.0,\n",
              " India is known for its heritage, spices, and of course, for people who live here.: 0.6818181818181818,\n",
              " That’s the reasons India is famous for the common saying of “unity in diversity”.: 1.0454545454545454,\n",
              " India is also well known as the land of spirituality, philosophy, science, and technology.: 0.4545454545454546}"
            ]
          },
          "metadata": {},
          "execution_count": 115
        }
      ],
      "source": [
        "sentence_scores"
      ]
    },
    {
      "cell_type": "code",
      "execution_count": 116,
      "metadata": {
        "id": "-8BICcjZJCpU"
      },
      "outputs": [],
      "source": [
        "from heapq import nlargest"
      ]
    },
    {
      "cell_type": "code",
      "execution_count": 117,
      "metadata": {
        "colab": {
          "base_uri": "https://localhost:8080/"
        },
        "id": "n7QOpoldJTcY",
        "outputId": "0d6c9220-1c59-4470-cb61-4af8fd792193"
      },
      "outputs": [
        {
          "output_type": "stream",
          "name": "stdout",
          "text": [
            "46\n"
          ]
        },
        {
          "output_type": "execute_result",
          "data": {
            "text/plain": [
              "13"
            ]
          },
          "metadata": {},
          "execution_count": 117
        }
      ],
      "source": [
        "print(len(sentence_tokens))\n",
        "select_length = int(len(sentence_tokens)*0.3)\n",
        "select_length"
      ]
    },
    {
      "cell_type": "code",
      "execution_count": 118,
      "metadata": {
        "id": "0qYYWV82JygM"
      },
      "outputs": [],
      "source": [
        "summary = nlargest(select_length, sentence_scores, key = sentence_scores.get)"
      ]
    },
    {
      "cell_type": "code",
      "execution_count": 119,
      "metadata": {
        "colab": {
          "base_uri": "https://localhost:8080/"
        },
        "id": "TR5wQN6UKDrt",
        "outputId": "ee785664-b236-4914-c19a-c9c343aee05d",
        "scrolled": true
      },
      "outputs": [
        {
          "output_type": "execute_result",
          "data": {
            "text/plain": [
              "[The second color i.e. the middle color in the flag is the white color and it stands for peace.,\n",
              " The first color that is uppermost color in the flag which is the saffron color, stands for purity.,\n",
              " The third color that is the lowest color in the flag is the green color and it stands for fertility.,\n",
              " In Jammu and Kashmir, you can see a variety of places such as Srinagar, Vaishnav Devi, Gulmarg, Amarnath, Patnitop, Pahalgam, Sonamarg, Lamayuru, Nubra Valley, Hemis, Sanasar,  Anantnag,  Kargil, Dachigam National Park, Pulwama, Khilanmarg, Dras, Baltal, Bhaderwah, Pangong Lake, Magnetic Hill, Tso Moriri, Khardung La, Aru Valley, Suru Basin,Chadar Trek, Zanskar Valley, Alchi Monastery, Darcha Padum Trek, Kishtwar National Park, Changthang Wildlife Sanctuary, Nyoma, Dha Hanu, Uleytokpo, Yusmarg, Tarsar Marsar Trek and many more.\n",
              " ,\n",
              " There are many places to visit Jammu and Kashmir because they have an undisturbed landscape, motorable road, beauty, lying on the banks of river Jhelum, harmony, romance, sceneries, temples and many more.\n",
              " ,\n",
              " Kerela\n",
              " It is known as the ‘God’s Own Country’, Kerala is a state in India, situated in the southwest region, it is bordered by a number of beaches; covered by hills of Western Ghats and filled with backwaters, it is a tourist destination attracting people by its natural beauty.,\n",
              " Khajuraho, Sanchi Stupa, Pachmarhi, Kanha national park, Mandu, etc. are the places must visit.\n",
              " ,\n",
              " India is also rich in monuments, tombs, churches, historical buildings, temples, museums, scenic beauty, wildlife sanctuaries, places of architecture and many more.,\n",
              " India is a great country where people speak different languages but the national language is Hindi.,\n",
              " That’s the reasons India is famous for the common saying of “unity in diversity“.,\n",
              " The white color has an Ashoka Chakra of blue color on it.,\n",
              " That’s the reasons India is famous for the common saying of “unity in diversity”.,\n",
              " In Rajasthan, you can see heritage things of all the kings who ruled over there and for that, you can visit Udaipur, Jodhpur, Jaisalmer, Chittaurgarh, etc.\n",
              " ]"
            ]
          },
          "metadata": {},
          "execution_count": 119
        }
      ],
      "source": [
        "summary"
      ]
    },
    {
      "cell_type": "code",
      "execution_count": 120,
      "metadata": {
        "id": "k3cGqkqaKWnT"
      },
      "outputs": [],
      "source": [
        "final_summary = [word.text for word in summary]"
      ]
    },
    {
      "cell_type": "code",
      "execution_count": 121,
      "metadata": {
        "id": "1pw4ElbUKpMB"
      },
      "outputs": [],
      "source": [
        "summary = ' '.join(final_summary)"
      ]
    },
    {
      "cell_type": "code",
      "execution_count": 122,
      "metadata": {
        "colab": {
          "base_uri": "https://localhost:8080/"
        },
        "id": "Wa66EgbzLIgR",
        "outputId": "79be0506-32c8-4999-c4f9-34448dcc47b5"
      },
      "outputs": [
        {
          "output_type": "stream",
          "name": "stdout",
          "text": [
            "India is a great country where people speak different languages but the national language is Hindi. India is full of different castes, creeds, religion, and cultures but they live together. That’s the reasons India is famous for the common saying of “unity in diversity“. India is the seventh-largest country in the whole world.\n",
            "\n",
            "Geography and Culture\n",
            "India has the second-largest population in the world. India is also knowns as Bharat, Hindustan and sometimes Aryavart. It is surrounded by oceans from three sides which are Bay Of Bengal in the east, the Arabian Sea in the west and Indian oceans in the south. Tiger is the national animal of India. Peacock is the national bird of India. Mango is the national fruit of India. “Jana Gana Mana” is the national anthem of India. “Vande Mataram” is the national song of India. Hockey is the national sport of India. People of different religions such as Hinduism, Buddhism, Jainism, Sikhism, Islam, Christianity and Judaism lives together from ancient times. India is also rich in monuments, tombs, churches, historical buildings, temples, museums, scenic beauty, wildlife sanctuaries, places of architecture and many more. The great leaders and freedom fighters are from India.\n",
            "\n",
            "Flag of India\n",
            "The Indian flag has tricolors\n",
            "Saffron\n",
            "White\n",
            "Green.\n",
            "The first color that is uppermost color in the flag which is the saffron color, stands for purity. The second color i.e. the middle color in the flag is the white color and it stands for peace. The third color that is the lowest color in the flag is the green color and it stands for fertility. The white color has an Ashoka Chakra of blue color on it. Ashoka Chakra contains twenty-four spokes which are equally divided. India has 29 states and 7 union territories.\n",
            "My Favorite States from India are as follows –\n",
            "Rajasthan\n",
            "Rajasthan itself has a glorious history. It is famous for many brave kings, their deeds, and their art and architecture. It has a sandy track that’s why the nuclear test was held here. Rajasthan is full of desert, mountain range, lakes, dense forest, attractive oases, and temples, etc. Rajasthan is also known as “Land Of Sacrifice”. In Rajasthan, you can see heritage things of all the kings who ruled over there and for that, you can visit Udaipur, Jodhpur, Jaisalmer, Chittaurgarh, etc.\n",
            "\n",
            "Madhya Pradesh\n",
            "Madhya Pradesh is bigger than a foreign (Italy) country and smaller than Oman. It also has tourists attractions for its places. In Madhya Pradesh, you can see temples, lakes, fort, art and architecture, rivers, jungles, and many things. You can visit in Indore, Jabalpur, Ujjain, Bhopal, Gwalior and many cities. Khajuraho, Sanchi Stupa, Pachmarhi, Kanha national park, Mandu, etc. are the places must visit.\n",
            "\n",
            "Jammu and Kashmir\n",
            "Jammu and Kashmir are known as heaven on earth. We can also call Jammu and Kashmir as Tourists Paradise. There are many places to visit Jammu and Kashmir because they have an undisturbed landscape, motorable road, beauty, lying on the banks of river Jhelum, harmony, romance, sceneries, temples and many more.\n",
            "\n",
            "In Jammu and Kashmir, u can enjoy boating, skiing, skating, mountaineering, horse riding, fishing, snowfall, etc. In Jammu and Kashmir, you can see a variety of places such as Srinagar, Vaishnav Devi, Gulmarg, Amarnath, Patnitop, Pahalgam, Sonamarg, Lamayuru, Nubra Valley, Hemis, Sanasar,  Anantnag,  Kargil, Dachigam National Park, Pulwama, Khilanmarg, Dras, Baltal, Bhaderwah, Pangong Lake, Magnetic Hill, Tso Moriri, Khardung La, Aru Valley, Suru Basin,Chadar Trek, Zanskar Valley, Alchi Monastery, Darcha Padum Trek, Kishtwar National Park, Changthang Wildlife Sanctuary, Nyoma, Dha Hanu, Uleytokpo, Yusmarg, Tarsar Marsar Trek and many more.\n",
            "\n",
            "Kerela\n",
            "It is known as the ‘God’s Own Country’, Kerala is a state in India, situated in the southwest region, it is bordered by a number of beaches; covered by hills of Western Ghats and filled with backwaters, it is a tourist destination attracting people by its natural beauty. The most important destinations which you can see in Kerela are the museum, sanctuary, temples, backwaters, and beaches. Munnar, Kovalam, Kumarakom, and Alappad.\n",
            "\n",
            "Conclusion\n",
            "India is a great country having different cultures, castes, creed, religions but still, they live together. India is known for its heritage, spices, and of course, for people who live here. That’s the reasons India is famous for the common saying of “unity in diversity”. India is also well known as the land of spirituality, philosophy, science, and technology.\n",
            "\n"
          ]
        }
      ],
      "source": [
        "print(text)"
      ]
    },
    {
      "cell_type": "code",
      "execution_count": 123,
      "metadata": {
        "colab": {
          "base_uri": "https://localhost:8080/"
        },
        "id": "no_-dxurKz1c",
        "outputId": "9295337c-ba18-470e-c938-86de25acd799"
      },
      "outputs": [
        {
          "output_type": "stream",
          "name": "stdout",
          "text": [
            "The second color i.e. the middle color in the flag is the white color and it stands for peace. The first color that is uppermost color in the flag which is the saffron color, stands for purity. The third color that is the lowest color in the flag is the green color and it stands for fertility. In Jammu and Kashmir, you can see a variety of places such as Srinagar, Vaishnav Devi, Gulmarg, Amarnath, Patnitop, Pahalgam, Sonamarg, Lamayuru, Nubra Valley, Hemis, Sanasar,  Anantnag,  Kargil, Dachigam National Park, Pulwama, Khilanmarg, Dras, Baltal, Bhaderwah, Pangong Lake, Magnetic Hill, Tso Moriri, Khardung La, Aru Valley, Suru Basin,Chadar Trek, Zanskar Valley, Alchi Monastery, Darcha Padum Trek, Kishtwar National Park, Changthang Wildlife Sanctuary, Nyoma, Dha Hanu, Uleytokpo, Yusmarg, Tarsar Marsar Trek and many more.\n",
            "\n",
            " There are many places to visit Jammu and Kashmir because they have an undisturbed landscape, motorable road, beauty, lying on the banks of river Jhelum, harmony, romance, sceneries, temples and many more.\n",
            "\n",
            " Kerela\n",
            "It is known as the ‘God’s Own Country’, Kerala is a state in India, situated in the southwest region, it is bordered by a number of beaches; covered by hills of Western Ghats and filled with backwaters, it is a tourist destination attracting people by its natural beauty. Khajuraho, Sanchi Stupa, Pachmarhi, Kanha national park, Mandu, etc. are the places must visit.\n",
            "\n",
            " India is also rich in monuments, tombs, churches, historical buildings, temples, museums, scenic beauty, wildlife sanctuaries, places of architecture and many more. India is a great country where people speak different languages but the national language is Hindi. That’s the reasons India is famous for the common saying of “unity in diversity“. The white color has an Ashoka Chakra of blue color on it. That’s the reasons India is famous for the common saying of “unity in diversity”. In Rajasthan, you can see heritage things of all the kings who ruled over there and for that, you can visit Udaipur, Jodhpur, Jaisalmer, Chittaurgarh, etc.\n",
            "\n",
            "\n"
          ]
        }
      ],
      "source": [
        "print(summary)"
      ]
    },
    {
      "cell_type": "code",
      "execution_count": 124,
      "metadata": {
        "colab": {
          "base_uri": "https://localhost:8080/"
        },
        "id": "MyD9Vqqip8WL",
        "outputId": "4b7920ec-34cb-43a7-ea26-951b7be7fb2e"
      },
      "outputs": [
        {
          "output_type": "stream",
          "name": "stdout",
          "text": [
            "['The second color i.e. the middle color in the flag is the white color and it stands for peace.', 'The first color that is uppermost color in the flag which is the saffron color, stands for purity.', 'The third color that is the lowest color in the flag is the green color and it stands for fertility.', 'In Jammu and Kashmir, you can see a variety of places such as Srinagar, Vaishnav Devi, Gulmarg, Amarnath, Patnitop, Pahalgam, Sonamarg, Lamayuru, Nubra Valley, Hemis, Sanasar,  Anantnag,  Kargil, Dachigam National Park, Pulwama, Khilanmarg, Dras, Baltal, Bhaderwah, Pangong Lake, Magnetic Hill, Tso Moriri, Khardung La, Aru Valley, Suru Basin,Chadar Trek, Zanskar Valley, Alchi Monastery, Darcha Padum Trek, Kishtwar National Park, Changthang Wildlife Sanctuary, Nyoma, Dha Hanu, Uleytokpo, Yusmarg, Tarsar Marsar Trek and many more.\\n\\n', 'There are many places to visit Jammu and Kashmir because they have an undisturbed landscape, motorable road, beauty, lying on the banks of river Jhelum, harmony, romance, sceneries, temples and many more.\\n\\n', 'Kerela\\nIt is known as the ‘God’s Own Country’, Kerala is a state in India, situated in the southwest region, it is bordered by a number of beaches; covered by hills of Western Ghats and filled with backwaters, it is a tourist destination attracting people by its natural beauty.', 'Khajuraho, Sanchi Stupa, Pachmarhi, Kanha national park, Mandu, etc. are the places must visit.\\n\\n', 'India is also rich in monuments, tombs, churches, historical buildings, temples, museums, scenic beauty, wildlife sanctuaries, places of architecture and many more.', 'India is a great country where people speak different languages but the national language is Hindi.', 'That’s the reasons India is famous for the common saying of “unity in diversity“.', 'The white color has an Ashoka Chakra of blue color on it.', 'That’s the reasons India is famous for the common saying of “unity in diversity”.', 'In Rajasthan, you can see heritage things of all the kings who ruled over there and for that, you can visit Udaipur, Jodhpur, Jaisalmer, Chittaurgarh, etc.\\n\\n']\n"
          ]
        }
      ],
      "source": [
        "print(final_summary)"
      ]
    },
    {
      "cell_type": "code",
      "execution_count": 125,
      "metadata": {
        "colab": {
          "base_uri": "https://localhost:8080/"
        },
        "id": "n9izlJ3Ep8WL",
        "outputId": "71cd8e8c-c2ef-427c-e71d-8dfe220025d5"
      },
      "outputs": [
        {
          "output_type": "stream",
          "name": "stdout",
          "text": [
            "Scores : [{'rouge-1': {'r': 0.0, 'p': 0.0, 'f': 0.0}, 'rouge-2': {'r': 0.0, 'p': 0.0, 'f': 0.0}, 'rouge-l': {'r': 0.0, 'p': 0.0, 'f': 0.0}}]\n"
          ]
        }
      ],
      "source": [
        "from rouge import Rouge\n",
        "\n",
        "# Generate summary using your method\n",
        "generated_summary = summary\n",
        "\n",
        "# Define reference summary\n",
        "reference_summary = \"Your reference summary here\"\n",
        "\n",
        "# Initialize Rouge object\n",
        "rouge = Rouge()\n",
        "\n",
        "# Calculate ROUGE scores\n",
        "scores = rouge.get_scores(generated_summary, reference_summary)\n",
        "\n",
        "# Print ROUGE scores\n",
        "print(\"Scores :\",scores)\n"
      ]
    },
    {
      "cell_type": "code",
      "execution_count": 126,
      "metadata": {
        "colab": {
          "base_uri": "https://localhost:8080/"
        },
        "id": "EUfJKodlp8WL",
        "outputId": "2037e153-4fe7-4171-af4d-0a17d2f639c5"
      },
      "outputs": [
        {
          "output_type": "stream",
          "name": "stdout",
          "text": [
            "Scores : [{'rouge-1': {'r': 0.0, 'p': 0.0, 'f': 0.0}, 'rouge-2': {'r': 0.0, 'p': 0.0, 'f': 0.0}, 'rouge-l': {'r': 0.0, 'p': 0.0, 'f': 0.0}}]\n"
          ]
        }
      ],
      "source": [
        "# Print ROUGE scores\n",
        "print(\"Scores :\",scores)"
      ]
    },
    {
      "cell_type": "code",
      "source": [
        "summary=\"The second color i.e. the middle color in the flag is the white color and it stands for peace. The first color that is uppermost color in the flag which is the saffron color, stands for purity. The third color that is the lowest color in the flag is the green color and it stands for fertility. In Jammu and Kashmir, you can see a variety of places such as Srinagar, Vaishnav Devi, Gulmarg, Amarnath, Patnitop, Pahalgam, Sonamarg, Lamayuru, Nubra Valley, Hemis, Sanasar,  Anantnag,  Kargil, Dachigam National Park, Pulwama, Khilanmarg, Dras, Baltal, Bhaderwah, Pangong Lake, Magnetic Hill, Tso Moriri, Khardung La, Aru Valley, Suru Basin,Chadar Trek, Zanskar Valley, Alchi Monastery, Darcha Padum Trek, Kishtwar National Park, Changthang Wildlife Sanctuary, Nyoma, Dha Hanu, Uleytokpo, Yusmarg, Tarsar Marsar Trek and many more.There are many places to visit Jammu and Kashmir because they have an undisturbed landscape, motorable road, beauty, lying on the banks of river Jhelum, harmony, romance, sceneries, temples and many more.Kerela It is known as the ‘God’s Own Country’, Kerala is a state in India, situated in the southwest region, it is bordered by a number of beaches; covered by hills of Western Ghats and filled with backwaters, it is a tourist destination attracting people by its natural beauty. Khajuraho, Sanchi Stupa, Pachmarhi, Kanha national park, Mandu, etc. are the places must visit.India is also rich in monuments, tombs, churches, historical buildings, temples, museums, scenic beauty, wildlife sanctuaries, places of architecture and many more. India is a great country where people speak different languages but the national language is Hindi. That’s the reasons India is famous for the common saying of “unity in diversity“. The white color has an Ashoka Chakra of blue color on it. That’s the reasons India is famous for the common saying of “unity in diversity”. In Rajasthan, you can see heritage things of all the kings who ruled over there and for that, you can visit Udaipur, Jodhpur, Jaisalmer, Chittaurgarh, etc.\""
      ],
      "metadata": {
        "id": "IZALM8mKvYN1"
      },
      "execution_count": 128,
      "outputs": []
    },
    {
      "cell_type": "code",
      "source": [
        "final_summary=\"The second color i.e. the middle color in the flag is the white color and it stands for peace.The first color that is uppermost color in the flag which is the saffron color, stands for purity.The third color that is the lowest color in the flag is the green color and it stands for fertility.In Jammu and Kashmir, you can see a variety of places such as Srinagar, Vaishnav Devi, Gulmarg, Amarnath, Patnitop, Pahalgam, Sonamarg, Lamayuru, Nubra Valley, Hemis, Sanasar,  Anantnag,  Kargil, Dachigam National Park, Pulwama, Khilanmarg, Dras, Baltal, Bhaderwah, Pangong Lake, Magnetic Hill, Tso Moriri, Khardung La, Aru Valley, Suru Basin,Chadar Trek, Zanskar Valley, Alchi Monastery, Darcha Padum Trek, Kishtwar National Park, Changthang Wildlife Sanctuary, Nyoma, Dha Hanu, Uleytokpo, Yusmarg, Tarsar Marsar Trek and many more.There are many places to visit Jammu and Kashmir because they have an undisturbed landscape, motorable road, beauty, lying on the banks of river Jhelum, harmony, romance, sceneries, temples and many more.Kerela It is known as the ‘God’s Own Country’, Kerala is a state in India, situated in the southwest region, it is bordered by a number of beaches; covered by hills of Western Ghats and filled with backwaters, it is a tourist destination attracting people by its natural beauty.Khajuraho, Sanchi Stupa, Pachmarhi, Kanha national park, Mandu, etc. are the places must visit.India is also rich in monuments, tombs, churches, historical buildings, temples, museums, scenic beauty, wildlife sanctuaries, places of architecture and many more.India is a great country where people speak different languages but the national language is Hindi.That’s the reasons India is famous for the common saying of “unity in diversity“.The white color has an Ashoka Chakra of blue color on it.That’s the reasons India is famous for the common saying of “unity in diversity”.In Rajasthan, you can see heritage things of all the kings who ruled over there and for that, you can visit Udaipur, Jodhpur, Jaisalmer, Chittaurgarh, etc.\""
      ],
      "metadata": {
        "id": "VvgQiuuYvYRZ"
      },
      "execution_count": 129,
      "outputs": []
    },
    {
      "cell_type": "code",
      "source": [
        "from rouge import Rouge\n",
        "\n",
        "# Initialize Rouge object\n",
        "rouge = Rouge()\n",
        "\n",
        "# Calculate ROUGE scores\n",
        "scores = rouge.get_scores([final_summary], [summary])\n",
        "\n",
        "# Print ROUGE scores\n",
        "print(\"ROUGE Scores:\", scores)\n"
      ],
      "metadata": {
        "colab": {
          "base_uri": "https://localhost:8080/"
        },
        "id": "NbkthQpGu8N-",
        "outputId": "b4345444-192d-4b20-c704-a54abcc6d252"
      },
      "execution_count": 130,
      "outputs": [
        {
          "output_type": "stream",
          "name": "stdout",
          "text": [
            "ROUGE Scores: [{'rouge-1': {'r': 1.0, 'p': 1.0, 'f': 0.999999995}, 'rouge-2': {'r': 1.0, 'p': 1.0, 'f': 0.999999995}, 'rouge-l': {'r': 1.0, 'p': 1.0, 'f': 0.999999995}}]\n"
          ]
        }
      ]
    },
    {
      "cell_type": "code",
      "execution_count": 131,
      "metadata": {
        "id": "WXdg-_9jp8WL"
      },
      "outputs": [],
      "source": [
        "## Bleu"
      ]
    },
    {
      "cell_type": "code",
      "execution_count": 132,
      "metadata": {
        "colab": {
          "base_uri": "https://localhost:8080/"
        },
        "id": "J-KIijRep8WL",
        "outputId": "3a661e0b-c6fc-436b-d03c-2c00c26c663a"
      },
      "outputs": [
        {
          "output_type": "stream",
          "name": "stdout",
          "text": [
            "Cosine Similarity between Final Summary and Reference Summary: 0.9999999999999973\n"
          ]
        }
      ],
      "source": [
        "from sklearn.metrics.pairwise import cosine_similarity\n",
        "from sklearn.feature_extraction.text import CountVectorizer\n",
        "\n",
        "# Tokenize the summaries\n",
        "tokenized_summaries = [final_summary, summary]\n",
        "\n",
        "# Initialize CountVectorizer\n",
        "vectorizer = CountVectorizer().fit_transform(tokenized_summaries)\n",
        "\n",
        "# Calculate cosine similarity\n",
        "cosine_similarities = cosine_similarity(vectorizer)\n",
        "\n",
        "# Print cosine similarity\n",
        "print(\"Cosine Similarity between Final Summary and Reference Summary:\", cosine_similarities[0, 1])\n"
      ]
    },
    {
      "cell_type": "code",
      "execution_count": 133,
      "metadata": {
        "colab": {
          "base_uri": "https://localhost:8080/"
        },
        "id": "JVpH7thxp8WM",
        "outputId": "9235ef49-e10f-440e-c137-b44d9ac8e38e"
      },
      "outputs": [
        {
          "output_type": "stream",
          "name": "stdout",
          "text": [
            "Binning Similarity Score: 0.8482002182370207\n"
          ]
        }
      ],
      "source": [
        "def binning_similarity(final_summary, original_text, num_bins=10):\n",
        "    # Tokenize the final summary and original text\n",
        "    final_summary_tokens = final_summary.split()\n",
        "    original_text_tokens = original_text.split()\n",
        "\n",
        "    # Calculate the length of each bin\n",
        "    bin_length = len(original_text_tokens) // num_bins\n",
        "\n",
        "    # Initialize bins for original text and final summary\n",
        "    original_text_bins = []\n",
        "    final_summary_bins = []\n",
        "\n",
        "    # Populate the bins for original text\n",
        "    for i in range(0, len(original_text_tokens), bin_length):\n",
        "        original_text_bins.append(\" \".join(original_text_tokens[i:i+bin_length]))\n",
        "\n",
        "    # Populate the bins for final summary\n",
        "    for i in range(0, len(final_summary_tokens), bin_length):\n",
        "        final_summary_bins.append(\" \".join(final_summary_tokens[i:i+bin_length]))\n",
        "\n",
        "    # Calculate the similarity for each bin\n",
        "    bin_similarities = []\n",
        "    for original_bin, summary_bin in zip(original_text_bins, final_summary_bins):\n",
        "        bin_similarity = len(set(original_bin.split()) & set(summary_bin.split())) / len(set(original_bin.split()))\n",
        "        bin_similarities.append(bin_similarity)\n",
        "\n",
        "    # Calculate the overall similarity by averaging bin similarities\n",
        "    overall_similarity = sum(bin_similarities) / len(bin_similarities)\n",
        "\n",
        "    return overall_similarity\n",
        "\n",
        "# Example usage:\n",
        "\n",
        "\n",
        "similarity_score = binning_similarity(final_summary, summary)\n",
        "print(\"Binning Similarity Score:\", similarity_score)\n"
      ]
    }
  ],
  "metadata": {
    "colab": {
      "provenance": []
    },
    "kernelspec": {
      "display_name": "Python 3 (ipykernel)",
      "language": "python",
      "name": "python3"
    },
    "language_info": {
      "codemirror_mode": {
        "name": "ipython",
        "version": 3
      },
      "file_extension": ".py",
      "mimetype": "text/x-python",
      "name": "python",
      "nbconvert_exporter": "python",
      "pygments_lexer": "ipython3",
      "version": "3.11.5"
    }
  },
  "nbformat": 4,
  "nbformat_minor": 0
}